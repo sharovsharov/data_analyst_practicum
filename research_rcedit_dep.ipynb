{
 "cells": [
  {
   "cell_type": "markdown",
   "id": "08f15d1d",
   "metadata": {
    "deletable": false,
    "editable": false,
    "id": "827c20bf"
   },
   "source": [
    "Во второй части проекта вы выполните шаги 3 и 4. Их вручную проверит ревьюер.\n",
    "Чтобы вам не пришлось писать код заново для шагов 1 и 2, мы добавили авторские решения в ячейки с кодом. \n",
    "\n"
   ]
  },
  {
   "cell_type": "markdown",
   "id": "0709ffba",
   "metadata": {},
   "source": [
    "# Описание проекта\n",
    "Заказчик — кредитный отдел банка. Нужно разобраться, влияет ли семейное положение и количество детей клиента на факт погашения кредита в срок. Входные данные от банка — статистика о платёжеспособности клиентов.\n",
    "Результаты исследования будут учтены при построении модели кредитного скоринга — специальной системы, которая оценивает способность потенциального заёмщика вернуть кредит банку."
   ]
  },
  {
   "cell_type": "markdown",
   "id": "597a6ffc",
   "metadata": {
    "deletable": false,
    "editable": false,
    "id": "744d7639"
   },
   "source": [
    "## Откройте таблицу и изучите общую информацию о данных"
   ]
  },
  {
   "cell_type": "markdown",
   "id": "46da70d0",
   "metadata": {
    "deletable": false,
    "editable": false,
    "id": "e7a14c31"
   },
   "source": [
    "**Задание 1. Импортируйте библиотеку pandas. Считайте данные из csv-файла в датафрейм и сохраните в переменную `data`. Путь к файлу:**\n",
    "\n",
    "`/datasets/data.csv`"
   ]
  },
  {
   "cell_type": "code",
   "execution_count": 1,
   "id": "5b238d35",
   "metadata": {
    "deletable": false,
    "id": "7bcf75c9"
   },
   "outputs": [],
   "source": [
    "import pandas as pd\n",
    "\n",
    "try:\n",
    "    data = pd.read_csv('/datasets/data.csv')\n",
    "except:\n",
    "    data = pd.read_csv('https://code.s3.yandex.net/datasets/data.csv')"
   ]
  },
  {
   "cell_type": "markdown",
   "id": "c9906436",
   "metadata": {
    "deletable": false,
    "editable": false,
    "id": "c81daeeb"
   },
   "source": [
    "# Исследование надежности заемщиков\n"
   ]
  },
  {
   "cell_type": "markdown",
   "id": "69e2a890",
   "metadata": {
    "deletable": false,
    "editable": false,
    "id": "b8038fe3"
   },
   "source": [
    "**Задание 2. Выведите первые 20 строчек датафрейма `data` на экран.**"
   ]
  },
  {
   "cell_type": "code",
   "execution_count": 2,
   "id": "491370a2",
   "metadata": {
    "deletable": false,
    "id": "2a7cab99",
    "outputId": "1a8f3ef2-d323-4ec2-ddf7-89670b5944c4"
   },
   "outputs": [
    {
     "data": {
      "text/html": [
       "<div>\n",
       "<style scoped>\n",
       "    .dataframe tbody tr th:only-of-type {\n",
       "        vertical-align: middle;\n",
       "    }\n",
       "\n",
       "    .dataframe tbody tr th {\n",
       "        vertical-align: top;\n",
       "    }\n",
       "\n",
       "    .dataframe thead th {\n",
       "        text-align: right;\n",
       "    }\n",
       "</style>\n",
       "<table border=\"1\" class=\"dataframe\">\n",
       "  <thead>\n",
       "    <tr style=\"text-align: right;\">\n",
       "      <th></th>\n",
       "      <th>children</th>\n",
       "      <th>days_employed</th>\n",
       "      <th>dob_years</th>\n",
       "      <th>education</th>\n",
       "      <th>education_id</th>\n",
       "      <th>family_status</th>\n",
       "      <th>family_status_id</th>\n",
       "      <th>gender</th>\n",
       "      <th>income_type</th>\n",
       "      <th>debt</th>\n",
       "      <th>total_income</th>\n",
       "      <th>purpose</th>\n",
       "    </tr>\n",
       "  </thead>\n",
       "  <tbody>\n",
       "    <tr>\n",
       "      <th>0</th>\n",
       "      <td>1</td>\n",
       "      <td>-8437.673028</td>\n",
       "      <td>42</td>\n",
       "      <td>высшее</td>\n",
       "      <td>0</td>\n",
       "      <td>женат / замужем</td>\n",
       "      <td>0</td>\n",
       "      <td>F</td>\n",
       "      <td>сотрудник</td>\n",
       "      <td>0</td>\n",
       "      <td>253875.639453</td>\n",
       "      <td>покупка жилья</td>\n",
       "    </tr>\n",
       "    <tr>\n",
       "      <th>1</th>\n",
       "      <td>1</td>\n",
       "      <td>-4024.803754</td>\n",
       "      <td>36</td>\n",
       "      <td>среднее</td>\n",
       "      <td>1</td>\n",
       "      <td>женат / замужем</td>\n",
       "      <td>0</td>\n",
       "      <td>F</td>\n",
       "      <td>сотрудник</td>\n",
       "      <td>0</td>\n",
       "      <td>112080.014102</td>\n",
       "      <td>приобретение автомобиля</td>\n",
       "    </tr>\n",
       "    <tr>\n",
       "      <th>2</th>\n",
       "      <td>0</td>\n",
       "      <td>-5623.422610</td>\n",
       "      <td>33</td>\n",
       "      <td>Среднее</td>\n",
       "      <td>1</td>\n",
       "      <td>женат / замужем</td>\n",
       "      <td>0</td>\n",
       "      <td>M</td>\n",
       "      <td>сотрудник</td>\n",
       "      <td>0</td>\n",
       "      <td>145885.952297</td>\n",
       "      <td>покупка жилья</td>\n",
       "    </tr>\n",
       "    <tr>\n",
       "      <th>3</th>\n",
       "      <td>3</td>\n",
       "      <td>-4124.747207</td>\n",
       "      <td>32</td>\n",
       "      <td>среднее</td>\n",
       "      <td>1</td>\n",
       "      <td>женат / замужем</td>\n",
       "      <td>0</td>\n",
       "      <td>M</td>\n",
       "      <td>сотрудник</td>\n",
       "      <td>0</td>\n",
       "      <td>267628.550329</td>\n",
       "      <td>дополнительное образование</td>\n",
       "    </tr>\n",
       "    <tr>\n",
       "      <th>4</th>\n",
       "      <td>0</td>\n",
       "      <td>340266.072047</td>\n",
       "      <td>53</td>\n",
       "      <td>среднее</td>\n",
       "      <td>1</td>\n",
       "      <td>гражданский брак</td>\n",
       "      <td>1</td>\n",
       "      <td>F</td>\n",
       "      <td>пенсионер</td>\n",
       "      <td>0</td>\n",
       "      <td>158616.077870</td>\n",
       "      <td>сыграть свадьбу</td>\n",
       "    </tr>\n",
       "    <tr>\n",
       "      <th>5</th>\n",
       "      <td>0</td>\n",
       "      <td>-926.185831</td>\n",
       "      <td>27</td>\n",
       "      <td>высшее</td>\n",
       "      <td>0</td>\n",
       "      <td>гражданский брак</td>\n",
       "      <td>1</td>\n",
       "      <td>M</td>\n",
       "      <td>компаньон</td>\n",
       "      <td>0</td>\n",
       "      <td>255763.565419</td>\n",
       "      <td>покупка жилья</td>\n",
       "    </tr>\n",
       "    <tr>\n",
       "      <th>6</th>\n",
       "      <td>0</td>\n",
       "      <td>-2879.202052</td>\n",
       "      <td>43</td>\n",
       "      <td>высшее</td>\n",
       "      <td>0</td>\n",
       "      <td>женат / замужем</td>\n",
       "      <td>0</td>\n",
       "      <td>F</td>\n",
       "      <td>компаньон</td>\n",
       "      <td>0</td>\n",
       "      <td>240525.971920</td>\n",
       "      <td>операции с жильем</td>\n",
       "    </tr>\n",
       "    <tr>\n",
       "      <th>7</th>\n",
       "      <td>0</td>\n",
       "      <td>-152.779569</td>\n",
       "      <td>50</td>\n",
       "      <td>СРЕДНЕЕ</td>\n",
       "      <td>1</td>\n",
       "      <td>женат / замужем</td>\n",
       "      <td>0</td>\n",
       "      <td>M</td>\n",
       "      <td>сотрудник</td>\n",
       "      <td>0</td>\n",
       "      <td>135823.934197</td>\n",
       "      <td>образование</td>\n",
       "    </tr>\n",
       "    <tr>\n",
       "      <th>8</th>\n",
       "      <td>2</td>\n",
       "      <td>-6929.865299</td>\n",
       "      <td>35</td>\n",
       "      <td>ВЫСШЕЕ</td>\n",
       "      <td>0</td>\n",
       "      <td>гражданский брак</td>\n",
       "      <td>1</td>\n",
       "      <td>F</td>\n",
       "      <td>сотрудник</td>\n",
       "      <td>0</td>\n",
       "      <td>95856.832424</td>\n",
       "      <td>на проведение свадьбы</td>\n",
       "    </tr>\n",
       "    <tr>\n",
       "      <th>9</th>\n",
       "      <td>0</td>\n",
       "      <td>-2188.756445</td>\n",
       "      <td>41</td>\n",
       "      <td>среднее</td>\n",
       "      <td>1</td>\n",
       "      <td>женат / замужем</td>\n",
       "      <td>0</td>\n",
       "      <td>M</td>\n",
       "      <td>сотрудник</td>\n",
       "      <td>0</td>\n",
       "      <td>144425.938277</td>\n",
       "      <td>покупка жилья для семьи</td>\n",
       "    </tr>\n",
       "    <tr>\n",
       "      <th>10</th>\n",
       "      <td>2</td>\n",
       "      <td>-4171.483647</td>\n",
       "      <td>36</td>\n",
       "      <td>высшее</td>\n",
       "      <td>0</td>\n",
       "      <td>женат / замужем</td>\n",
       "      <td>0</td>\n",
       "      <td>M</td>\n",
       "      <td>компаньон</td>\n",
       "      <td>0</td>\n",
       "      <td>113943.491460</td>\n",
       "      <td>покупка недвижимости</td>\n",
       "    </tr>\n",
       "    <tr>\n",
       "      <th>11</th>\n",
       "      <td>0</td>\n",
       "      <td>-792.701887</td>\n",
       "      <td>40</td>\n",
       "      <td>среднее</td>\n",
       "      <td>1</td>\n",
       "      <td>женат / замужем</td>\n",
       "      <td>0</td>\n",
       "      <td>F</td>\n",
       "      <td>сотрудник</td>\n",
       "      <td>0</td>\n",
       "      <td>77069.234271</td>\n",
       "      <td>покупка коммерческой недвижимости</td>\n",
       "    </tr>\n",
       "    <tr>\n",
       "      <th>12</th>\n",
       "      <td>0</td>\n",
       "      <td>NaN</td>\n",
       "      <td>65</td>\n",
       "      <td>среднее</td>\n",
       "      <td>1</td>\n",
       "      <td>гражданский брак</td>\n",
       "      <td>1</td>\n",
       "      <td>M</td>\n",
       "      <td>пенсионер</td>\n",
       "      <td>0</td>\n",
       "      <td>NaN</td>\n",
       "      <td>сыграть свадьбу</td>\n",
       "    </tr>\n",
       "    <tr>\n",
       "      <th>13</th>\n",
       "      <td>0</td>\n",
       "      <td>-1846.641941</td>\n",
       "      <td>54</td>\n",
       "      <td>неоконченное высшее</td>\n",
       "      <td>2</td>\n",
       "      <td>женат / замужем</td>\n",
       "      <td>0</td>\n",
       "      <td>F</td>\n",
       "      <td>сотрудник</td>\n",
       "      <td>0</td>\n",
       "      <td>130458.228857</td>\n",
       "      <td>приобретение автомобиля</td>\n",
       "    </tr>\n",
       "    <tr>\n",
       "      <th>14</th>\n",
       "      <td>0</td>\n",
       "      <td>-1844.956182</td>\n",
       "      <td>56</td>\n",
       "      <td>высшее</td>\n",
       "      <td>0</td>\n",
       "      <td>гражданский брак</td>\n",
       "      <td>1</td>\n",
       "      <td>F</td>\n",
       "      <td>компаньон</td>\n",
       "      <td>1</td>\n",
       "      <td>165127.911772</td>\n",
       "      <td>покупка жилой недвижимости</td>\n",
       "    </tr>\n",
       "    <tr>\n",
       "      <th>15</th>\n",
       "      <td>1</td>\n",
       "      <td>-972.364419</td>\n",
       "      <td>26</td>\n",
       "      <td>среднее</td>\n",
       "      <td>1</td>\n",
       "      <td>женат / замужем</td>\n",
       "      <td>0</td>\n",
       "      <td>F</td>\n",
       "      <td>сотрудник</td>\n",
       "      <td>0</td>\n",
       "      <td>116820.904450</td>\n",
       "      <td>строительство собственной недвижимости</td>\n",
       "    </tr>\n",
       "    <tr>\n",
       "      <th>16</th>\n",
       "      <td>0</td>\n",
       "      <td>-1719.934226</td>\n",
       "      <td>35</td>\n",
       "      <td>среднее</td>\n",
       "      <td>1</td>\n",
       "      <td>женат / замужем</td>\n",
       "      <td>0</td>\n",
       "      <td>F</td>\n",
       "      <td>сотрудник</td>\n",
       "      <td>0</td>\n",
       "      <td>289202.704229</td>\n",
       "      <td>недвижимость</td>\n",
       "    </tr>\n",
       "    <tr>\n",
       "      <th>17</th>\n",
       "      <td>0</td>\n",
       "      <td>-2369.999720</td>\n",
       "      <td>33</td>\n",
       "      <td>высшее</td>\n",
       "      <td>0</td>\n",
       "      <td>гражданский брак</td>\n",
       "      <td>1</td>\n",
       "      <td>M</td>\n",
       "      <td>сотрудник</td>\n",
       "      <td>0</td>\n",
       "      <td>90410.586745</td>\n",
       "      <td>строительство недвижимости</td>\n",
       "    </tr>\n",
       "    <tr>\n",
       "      <th>18</th>\n",
       "      <td>0</td>\n",
       "      <td>400281.136913</td>\n",
       "      <td>53</td>\n",
       "      <td>среднее</td>\n",
       "      <td>1</td>\n",
       "      <td>вдовец / вдова</td>\n",
       "      <td>2</td>\n",
       "      <td>F</td>\n",
       "      <td>пенсионер</td>\n",
       "      <td>0</td>\n",
       "      <td>56823.777243</td>\n",
       "      <td>на покупку подержанного автомобиля</td>\n",
       "    </tr>\n",
       "    <tr>\n",
       "      <th>19</th>\n",
       "      <td>0</td>\n",
       "      <td>-10038.818549</td>\n",
       "      <td>48</td>\n",
       "      <td>СРЕДНЕЕ</td>\n",
       "      <td>1</td>\n",
       "      <td>в разводе</td>\n",
       "      <td>3</td>\n",
       "      <td>F</td>\n",
       "      <td>сотрудник</td>\n",
       "      <td>0</td>\n",
       "      <td>242831.107982</td>\n",
       "      <td>на покупку своего автомобиля</td>\n",
       "    </tr>\n",
       "  </tbody>\n",
       "</table>\n",
       "</div>"
      ],
      "text/plain": [
       "    children  days_employed  dob_years            education  education_id  \\\n",
       "0          1   -8437.673028         42               высшее             0   \n",
       "1          1   -4024.803754         36              среднее             1   \n",
       "2          0   -5623.422610         33              Среднее             1   \n",
       "3          3   -4124.747207         32              среднее             1   \n",
       "4          0  340266.072047         53              среднее             1   \n",
       "5          0    -926.185831         27               высшее             0   \n",
       "6          0   -2879.202052         43               высшее             0   \n",
       "7          0    -152.779569         50              СРЕДНЕЕ             1   \n",
       "8          2   -6929.865299         35               ВЫСШЕЕ             0   \n",
       "9          0   -2188.756445         41              среднее             1   \n",
       "10         2   -4171.483647         36               высшее             0   \n",
       "11         0    -792.701887         40              среднее             1   \n",
       "12         0            NaN         65              среднее             1   \n",
       "13         0   -1846.641941         54  неоконченное высшее             2   \n",
       "14         0   -1844.956182         56               высшее             0   \n",
       "15         1    -972.364419         26              среднее             1   \n",
       "16         0   -1719.934226         35              среднее             1   \n",
       "17         0   -2369.999720         33               высшее             0   \n",
       "18         0  400281.136913         53              среднее             1   \n",
       "19         0  -10038.818549         48              СРЕДНЕЕ             1   \n",
       "\n",
       "       family_status  family_status_id gender income_type  debt  \\\n",
       "0    женат / замужем                 0      F   сотрудник     0   \n",
       "1    женат / замужем                 0      F   сотрудник     0   \n",
       "2    женат / замужем                 0      M   сотрудник     0   \n",
       "3    женат / замужем                 0      M   сотрудник     0   \n",
       "4   гражданский брак                 1      F   пенсионер     0   \n",
       "5   гражданский брак                 1      M   компаньон     0   \n",
       "6    женат / замужем                 0      F   компаньон     0   \n",
       "7    женат / замужем                 0      M   сотрудник     0   \n",
       "8   гражданский брак                 1      F   сотрудник     0   \n",
       "9    женат / замужем                 0      M   сотрудник     0   \n",
       "10   женат / замужем                 0      M   компаньон     0   \n",
       "11   женат / замужем                 0      F   сотрудник     0   \n",
       "12  гражданский брак                 1      M   пенсионер     0   \n",
       "13   женат / замужем                 0      F   сотрудник     0   \n",
       "14  гражданский брак                 1      F   компаньон     1   \n",
       "15   женат / замужем                 0      F   сотрудник     0   \n",
       "16   женат / замужем                 0      F   сотрудник     0   \n",
       "17  гражданский брак                 1      M   сотрудник     0   \n",
       "18    вдовец / вдова                 2      F   пенсионер     0   \n",
       "19         в разводе                 3      F   сотрудник     0   \n",
       "\n",
       "     total_income                                 purpose  \n",
       "0   253875.639453                           покупка жилья  \n",
       "1   112080.014102                 приобретение автомобиля  \n",
       "2   145885.952297                           покупка жилья  \n",
       "3   267628.550329              дополнительное образование  \n",
       "4   158616.077870                         сыграть свадьбу  \n",
       "5   255763.565419                           покупка жилья  \n",
       "6   240525.971920                       операции с жильем  \n",
       "7   135823.934197                             образование  \n",
       "8    95856.832424                   на проведение свадьбы  \n",
       "9   144425.938277                 покупка жилья для семьи  \n",
       "10  113943.491460                    покупка недвижимости  \n",
       "11   77069.234271       покупка коммерческой недвижимости  \n",
       "12            NaN                         сыграть свадьбу  \n",
       "13  130458.228857                 приобретение автомобиля  \n",
       "14  165127.911772              покупка жилой недвижимости  \n",
       "15  116820.904450  строительство собственной недвижимости  \n",
       "16  289202.704229                            недвижимость  \n",
       "17   90410.586745              строительство недвижимости  \n",
       "18   56823.777243      на покупку подержанного автомобиля  \n",
       "19  242831.107982            на покупку своего автомобиля  "
      ]
     },
     "execution_count": 2,
     "metadata": {},
     "output_type": "execute_result"
    }
   ],
   "source": [
    "data.head(20)"
   ]
  },
  {
   "cell_type": "markdown",
   "id": "3b188b73",
   "metadata": {
    "deletable": false,
    "editable": false,
    "id": "1c12e233"
   },
   "source": [
    "**Задание 3. Выведите основную информацию о датафрейме с помощью метода `info()`.**"
   ]
  },
  {
   "cell_type": "code",
   "execution_count": 3,
   "id": "b269a442",
   "metadata": {
    "deletable": false,
    "id": "2b757bca",
    "outputId": "15376089-8dad-46c9-b520-c05248d43158"
   },
   "outputs": [
    {
     "name": "stdout",
     "output_type": "stream",
     "text": [
      "<class 'pandas.core.frame.DataFrame'>\n",
      "RangeIndex: 21525 entries, 0 to 21524\n",
      "Data columns (total 12 columns):\n",
      " #   Column            Non-Null Count  Dtype  \n",
      "---  ------            --------------  -----  \n",
      " 0   children          21525 non-null  int64  \n",
      " 1   days_employed     19351 non-null  float64\n",
      " 2   dob_years         21525 non-null  int64  \n",
      " 3   education         21525 non-null  object \n",
      " 4   education_id      21525 non-null  int64  \n",
      " 5   family_status     21525 non-null  object \n",
      " 6   family_status_id  21525 non-null  int64  \n",
      " 7   gender            21525 non-null  object \n",
      " 8   income_type       21525 non-null  object \n",
      " 9   debt              21525 non-null  int64  \n",
      " 10  total_income      19351 non-null  float64\n",
      " 11  purpose           21525 non-null  object \n",
      "dtypes: float64(2), int64(5), object(5)\n",
      "memory usage: 2.0+ MB\n"
     ]
    }
   ],
   "source": [
    "data.info()"
   ]
  },
  {
   "cell_type": "markdown",
   "id": "3d71fb41",
   "metadata": {
    "deletable": false,
    "editable": false,
    "id": "333ec665"
   },
   "source": [
    "## Предобработка данных"
   ]
  },
  {
   "cell_type": "markdown",
   "id": "7e947c43",
   "metadata": {
    "deletable": false,
    "editable": false,
    "id": "02d92d53"
   },
   "source": [
    "### Удаление пропусков"
   ]
  },
  {
   "cell_type": "markdown",
   "id": "418efb99",
   "metadata": {
    "deletable": false,
    "editable": false,
    "id": "cd84967c"
   },
   "source": [
    "**Задание 4. Выведите количество пропущенных значений для каждого столбца. Используйте комбинацию двух методов.**"
   ]
  },
  {
   "cell_type": "code",
   "execution_count": 4,
   "id": "3db87a3f",
   "metadata": {
    "deletable": false,
    "id": "7f9b2309",
    "outputId": "81f4d817-781c-465c-ed15-91ce4446810d"
   },
   "outputs": [
    {
     "data": {
      "text/plain": [
       "children               0\n",
       "days_employed       2174\n",
       "dob_years              0\n",
       "education              0\n",
       "education_id           0\n",
       "family_status          0\n",
       "family_status_id       0\n",
       "gender                 0\n",
       "income_type            0\n",
       "debt                   0\n",
       "total_income        2174\n",
       "purpose                0\n",
       "dtype: int64"
      ]
     },
     "execution_count": 4,
     "metadata": {},
     "output_type": "execute_result"
    }
   ],
   "source": [
    "data.isna().sum()"
   ]
  },
  {
   "cell_type": "markdown",
   "id": "49c94447",
   "metadata": {
    "deletable": false,
    "editable": false,
    "id": "db86e27b"
   },
   "source": [
    "**Задание 5. В двух столбцах есть пропущенные значения. Один из них — `days_employed`. Пропуски в этом столбце вы обработаете на следующем этапе. Другой столбец с пропущенными значениями — `total_income` — хранит данные о доходах. На сумму дохода сильнее всего влияет тип занятости, поэтому заполнить пропуски в этом столбце нужно медианным значением по каждому типу из столбца `income_type`. Например, у человека с типом занятости `сотрудник` пропуск в столбце `total_income` должен быть заполнен медианным доходом среди всех записей с тем же типом.**"
   ]
  },
  {
   "cell_type": "code",
   "execution_count": 5,
   "id": "813c23d9",
   "metadata": {
    "deletable": false,
    "id": "42006a93"
   },
   "outputs": [],
   "source": [
    "for t in data['income_type'].unique():\n",
    "    data.loc[(data['income_type'] == t) & (data['total_income'].isna()), 'total_income'] = \\\n",
    "    data.loc[(data['income_type'] == t), 'total_income'].median()"
   ]
  },
  {
   "cell_type": "markdown",
   "id": "feb0a7ce",
   "metadata": {
    "deletable": false,
    "editable": false,
    "id": "89da5ece"
   },
   "source": [
    "### Обработка аномальных значений"
   ]
  },
  {
   "cell_type": "markdown",
   "id": "0278c4dd",
   "metadata": {
    "deletable": false,
    "editable": false,
    "id": "57964554"
   },
   "source": [
    "**Задание 6. В данных могут встречаться артефакты (аномалии) — значения, которые не отражают действительность и появились по какой-то ошибке. таким артефактом будет отрицательное количество дней трудового стажа в столбце `days_employed`. Для реальных данных это нормально. Обработайте значения в этом столбце: замените все отрицательные значения положительными с помощью метода `abs()`.**"
   ]
  },
  {
   "cell_type": "code",
   "execution_count": 6,
   "id": "6288c4cc",
   "metadata": {
    "deletable": false,
    "id": "f6f055bf"
   },
   "outputs": [],
   "source": [
    "data['days_employed'] = data['days_employed'].abs()"
   ]
  },
  {
   "cell_type": "markdown",
   "id": "ebe1505b",
   "metadata": {
    "deletable": false,
    "editable": false,
    "id": "6107dd2f"
   },
   "source": [
    "**Задание 7. Для каждого типа занятости выведите медианное значение трудового стажа `days_employed` в днях.**"
   ]
  },
  {
   "cell_type": "code",
   "execution_count": 7,
   "id": "f3e891a6",
   "metadata": {
    "deletable": false,
    "id": "85a5faf6",
    "outputId": "801ef80e-522b-4668-f34e-565af7432bcf"
   },
   "outputs": [
    {
     "data": {
      "text/plain": [
       "income_type\n",
       "безработный        366413.652744\n",
       "в декрете            3296.759962\n",
       "госслужащий          2689.368353\n",
       "компаньон            1547.382223\n",
       "пенсионер          365213.306266\n",
       "предприниматель       520.848083\n",
       "сотрудник            1574.202821\n",
       "студент               578.751554\n",
       "Name: days_employed, dtype: float64"
      ]
     },
     "execution_count": 7,
     "metadata": {},
     "output_type": "execute_result"
    }
   ],
   "source": [
    "data.groupby('income_type')['days_employed'].agg('median')"
   ]
  },
  {
   "cell_type": "markdown",
   "id": "e0354f67",
   "metadata": {
    "deletable": false,
    "editable": false,
    "id": "38d1a030"
   },
   "source": [
    "У двух типов (безработные и пенсионеры) получатся аномально большие значения. Исправить такие значения сложно, поэтому оставьте их как есть. Тем более этот столбец не понадобится вам для исследования."
   ]
  },
  {
   "cell_type": "markdown",
   "id": "39b833f0",
   "metadata": {
    "deletable": false,
    "editable": false,
    "id": "d8a9f147"
   },
   "source": [
    "**Задание 8. Выведите перечень уникальных значений столбца `children`.**"
   ]
  },
  {
   "cell_type": "code",
   "execution_count": 8,
   "id": "e23d39e0",
   "metadata": {
    "deletable": false,
    "id": "ef5056eb",
    "outputId": "6975b15c-7f95-4697-d16d-a0c79b657b03"
   },
   "outputs": [
    {
     "data": {
      "text/plain": [
       "array([ 1,  0,  3,  2, -1,  4, 20,  5])"
      ]
     },
     "execution_count": 8,
     "metadata": {},
     "output_type": "execute_result"
    }
   ],
   "source": [
    "data['children'].unique()"
   ]
  },
  {
   "cell_type": "markdown",
   "id": "e655670b",
   "metadata": {
    "deletable": false,
    "editable": false,
    "id": "40b9ebf2"
   },
   "source": [
    "**Задание 9. В столбце `children` есть два аномальных значения. Удалите строки, в которых встречаются такие аномальные значения из датафрейма `data`.**"
   ]
  },
  {
   "cell_type": "code",
   "execution_count": 9,
   "id": "eaa854b5",
   "metadata": {
    "deletable": false,
    "id": "3ff9801d"
   },
   "outputs": [],
   "source": [
    "data = data[(data['children'] != -1) & (data['children'] != 20)]"
   ]
  },
  {
   "cell_type": "markdown",
   "id": "6c84fdc4",
   "metadata": {
    "deletable": false,
    "editable": false,
    "id": "bbc4d0ce"
   },
   "source": [
    "**Задание 10. Ещё раз выведите перечень уникальных значений столбца `children`, чтобы убедиться, что артефакты удалены.**"
   ]
  },
  {
   "cell_type": "code",
   "execution_count": 10,
   "id": "9b974add",
   "metadata": {
    "deletable": false,
    "id": "ad4fa8b7",
    "outputId": "b2097101-d49d-44d9-901b-32a65c9463d1"
   },
   "outputs": [
    {
     "data": {
      "text/plain": [
       "array([1, 0, 3, 2, 4, 5])"
      ]
     },
     "execution_count": 10,
     "metadata": {},
     "output_type": "execute_result"
    }
   ],
   "source": [
    "data['children'].unique()"
   ]
  },
  {
   "cell_type": "markdown",
   "id": "5c151043",
   "metadata": {
    "deletable": false,
    "editable": false,
    "id": "75440b63"
   },
   "source": [
    "### Удаление пропусков (продолжение)"
   ]
  },
  {
   "cell_type": "markdown",
   "id": "ddf52614",
   "metadata": {
    "deletable": false,
    "editable": false,
    "id": "f4ea573f"
   },
   "source": [
    "**Задание 11. Заполните пропуски в столбце `days_employed` медианными значениями по каждого типа занятости `income_type`.**"
   ]
  },
  {
   "cell_type": "code",
   "execution_count": 11,
   "id": "9bb910da",
   "metadata": {
    "deletable": false,
    "id": "af6b1a7e"
   },
   "outputs": [],
   "source": [
    "for t in data['income_type'].unique():\n",
    "    data.loc[(data['income_type'] == t) & (data['days_employed'].isna()), 'days_employed'] = \\\n",
    "    data.loc[(data['income_type'] == t), 'days_employed'].median()"
   ]
  },
  {
   "cell_type": "markdown",
   "id": "24be8a54",
   "metadata": {
    "deletable": false,
    "editable": false,
    "id": "2753f40d"
   },
   "source": [
    "**Задание 12. Убедитесь, что все пропуски заполнены. Проверьте себя и ещё раз выведите количество пропущенных значений для каждого столбца с помощью двух методов.**"
   ]
  },
  {
   "cell_type": "code",
   "execution_count": 12,
   "id": "0793d9a4",
   "metadata": {
    "deletable": false,
    "id": "55f78bc2",
    "outputId": "8da1e4e1-358e-4e87-98c9-f261bce0a7b2"
   },
   "outputs": [
    {
     "data": {
      "text/plain": [
       "children            0\n",
       "days_employed       0\n",
       "dob_years           0\n",
       "education           0\n",
       "education_id        0\n",
       "family_status       0\n",
       "family_status_id    0\n",
       "gender              0\n",
       "income_type         0\n",
       "debt                0\n",
       "total_income        0\n",
       "purpose             0\n",
       "dtype: int64"
      ]
     },
     "execution_count": 12,
     "metadata": {},
     "output_type": "execute_result"
    }
   ],
   "source": [
    "data.isna().sum()"
   ]
  },
  {
   "cell_type": "markdown",
   "id": "0342ce68",
   "metadata": {
    "deletable": false,
    "editable": false,
    "id": "ddc81e43"
   },
   "source": [
    "### Изменение типов данных"
   ]
  },
  {
   "cell_type": "markdown",
   "id": "c410eed4",
   "metadata": {
    "deletable": false,
    "editable": false,
    "id": "42d19d24"
   },
   "source": [
    "**Задание 13. Замените вещественный тип данных в столбце `total_income` на целочисленный с помощью метода `astype()`.**"
   ]
  },
  {
   "cell_type": "code",
   "execution_count": 13,
   "id": "c04eea01",
   "metadata": {
    "deletable": false,
    "id": "920b65ad"
   },
   "outputs": [],
   "source": [
    "data['total_income'] = data['total_income'].astype(int)"
   ]
  },
  {
   "cell_type": "markdown",
   "id": "a474945e",
   "metadata": {
    "deletable": false,
    "editable": false,
    "id": "80c420ba"
   },
   "source": [
    "### Обработка дубликатов"
   ]
  },
  {
   "cell_type": "markdown",
   "id": "f7a62429",
   "metadata": {
    "deletable": false,
    "editable": false
   },
   "source": [
    "**Задание 14. Обработайте неявные дубликаты в столбце `education`. В этом столбце есть одни и те же значения, но записанные по-разному: с использованием заглавных и строчных букв. Приведите их к нижнему регистру. Проверьте остальные столбцы.**"
   ]
  },
  {
   "cell_type": "code",
   "execution_count": 14,
   "id": "0d82f92e",
   "metadata": {
    "deletable": false
   },
   "outputs": [],
   "source": [
    "data['education'] = data['education'].str.lower()"
   ]
  },
  {
   "cell_type": "markdown",
   "id": "030f3eba",
   "metadata": {
    "deletable": false,
    "editable": false,
    "id": "dc587695"
   },
   "source": [
    "**Задание 15. Выведите на экран количество строк-дубликатов в данных. Если такие строки присутствуют, удалите их.**"
   ]
  },
  {
   "cell_type": "code",
   "execution_count": 15,
   "id": "2ea1ec84",
   "metadata": {
    "deletable": false,
    "id": "3ee445e4",
    "outputId": "9684deba-1934-42d1-99e1-cda61740f822"
   },
   "outputs": [
    {
     "data": {
      "text/plain": [
       "71"
      ]
     },
     "execution_count": 15,
     "metadata": {},
     "output_type": "execute_result"
    }
   ],
   "source": [
    "data.duplicated().sum()"
   ]
  },
  {
   "cell_type": "code",
   "execution_count": 16,
   "id": "b2eb56a7",
   "metadata": {
    "deletable": false,
    "id": "8575fe05"
   },
   "outputs": [],
   "source": [
    "data = data.drop_duplicates()"
   ]
  },
  {
   "cell_type": "markdown",
   "id": "f4f908a5",
   "metadata": {
    "deletable": false,
    "editable": false,
    "id": "9904cf55"
   },
   "source": [
    "### Категоризация данных"
   ]
  },
  {
   "cell_type": "markdown",
   "id": "6bbfc7d5",
   "metadata": {
    "deletable": false,
    "editable": false,
    "id": "72fcc8a2"
   },
   "source": [
    "**Задание 16. На основании диапазонов, указанных ниже, создайте в датафрейме `data` столбец `total_income_category` с категориями:**\n",
    "\n",
    "- 0–30000 — `'E'`;\n",
    "- 30001–50000 — `'D'`;\n",
    "- 50001–200000 — `'C'`;\n",
    "- 200001–1000000 — `'B'`;\n",
    "- 1000001 и выше — `'A'`.\n",
    "\n",
    "\n",
    "**Например, кредитополучателю с доходом 25000 нужно назначить категорию `'E'`, а клиенту, получающему 235000, — `'B'`. Используйте собственную функцию с именем `categorize_income()` и метод `apply()`.**"
   ]
  },
  {
   "cell_type": "code",
   "execution_count": 17,
   "id": "60fb3844",
   "metadata": {
    "deletable": false,
    "id": "e1771346"
   },
   "outputs": [],
   "source": [
    "def categorize_income(income):\n",
    "    try:\n",
    "        if 0 <= income <= 30000:\n",
    "            return 'E'\n",
    "        elif 30001 <= income <= 50000:\n",
    "            return 'D'\n",
    "        elif 50001 <= income <= 200000:\n",
    "            return 'C'\n",
    "        elif 200001 <= income <= 1000000:\n",
    "            return 'B'\n",
    "        elif income >= 1000001:\n",
    "            return 'A'\n",
    "    except:\n",
    "        pass"
   ]
  },
  {
   "cell_type": "code",
   "execution_count": 18,
   "id": "d500664d",
   "metadata": {
    "deletable": false,
    "id": "d5f3586d"
   },
   "outputs": [],
   "source": [
    "data['total_income_category'] = data['total_income'].apply(categorize_income)"
   ]
  },
  {
   "cell_type": "markdown",
   "id": "798a3a3e",
   "metadata": {
    "deletable": false,
    "editable": false,
    "id": "dde49b5c"
   },
   "source": [
    "**Задание 17. Выведите на экран перечень уникальных целей взятия кредита из столбца `purpose`.**"
   ]
  },
  {
   "cell_type": "code",
   "execution_count": 19,
   "id": "48b1030b",
   "metadata": {
    "deletable": false,
    "id": "f67ce9b3",
    "outputId": "673c12d9-7d7e-4ae0-9812-c622c89dd244"
   },
   "outputs": [
    {
     "data": {
      "text/plain": [
       "array(['покупка жилья', 'приобретение автомобиля',\n",
       "       'дополнительное образование', 'сыграть свадьбу',\n",
       "       'операции с жильем', 'образование', 'на проведение свадьбы',\n",
       "       'покупка жилья для семьи', 'покупка недвижимости',\n",
       "       'покупка коммерческой недвижимости', 'покупка жилой недвижимости',\n",
       "       'строительство собственной недвижимости', 'недвижимость',\n",
       "       'строительство недвижимости', 'на покупку подержанного автомобиля',\n",
       "       'на покупку своего автомобиля',\n",
       "       'операции с коммерческой недвижимостью',\n",
       "       'строительство жилой недвижимости', 'жилье',\n",
       "       'операции со своей недвижимостью', 'автомобили',\n",
       "       'заняться образованием', 'сделка с подержанным автомобилем',\n",
       "       'получение образования', 'автомобиль', 'свадьба',\n",
       "       'получение дополнительного образования', 'покупка своего жилья',\n",
       "       'операции с недвижимостью', 'получение высшего образования',\n",
       "       'свой автомобиль', 'сделка с автомобилем',\n",
       "       'профильное образование', 'высшее образование',\n",
       "       'покупка жилья для сдачи', 'на покупку автомобиля', 'ремонт жилью',\n",
       "       'заняться высшим образованием'], dtype=object)"
      ]
     },
     "execution_count": 19,
     "metadata": {},
     "output_type": "execute_result"
    }
   ],
   "source": [
    "data['purpose'].unique()"
   ]
  },
  {
   "cell_type": "markdown",
   "id": "707f20f2",
   "metadata": {
    "deletable": false,
    "editable": false,
    "id": "85d0aef0"
   },
   "source": [
    "**Задание 18. Создайте функцию, которая на основании данных из столбца `purpose` сформирует новый столбец `purpose_category`, в который войдут следующие категории:**\n",
    "\n",
    "- `'операции с автомобилем'`,\n",
    "- `'операции с недвижимостью'`,\n",
    "- `'проведение свадьбы'`,\n",
    "- `'получение образования'`.\n",
    "\n",
    "**Например, если в столбце `purpose` находится подстрока `'на покупку автомобиля'`, то в столбце `purpose_category` должна появиться строка `'операции с автомобилем'`.**\n",
    "\n",
    "**Используйте собственную функцию с именем `categorize_purpose()` и метод `apply()`. Изучите данные в столбце `purpose` и определите, какие подстроки помогут вам правильно определить категорию.**"
   ]
  },
  {
   "cell_type": "code",
   "execution_count": 20,
   "id": "09c985df",
   "metadata": {
    "deletable": false,
    "id": "e149fab4"
   },
   "outputs": [],
   "source": [
    "def categorize_purpose(row):\n",
    "    try:\n",
    "        if 'автом' in row:\n",
    "            return 'операции с автомобилем'\n",
    "        elif 'жил' in row or 'недвиж' in row:\n",
    "            return 'операции с недвижимостью'\n",
    "        elif 'свад' in row:\n",
    "            return 'проведение свадьбы'\n",
    "        elif 'образов' in row:\n",
    "            return 'получение образования'\n",
    "    except:\n",
    "        return 'нет категории'"
   ]
  },
  {
   "cell_type": "code",
   "execution_count": 21,
   "id": "1c20c8ae",
   "metadata": {
    "deletable": false,
    "id": "bf36e69b"
   },
   "outputs": [],
   "source": [
    "data['purpose_category'] = data['purpose'].apply(categorize_purpose)"
   ]
  },
  {
   "cell_type": "markdown",
   "id": "2cfea85c",
   "metadata": {
    "deletable": false,
    "editable": false,
    "id": "09b242bf"
   },
   "source": [
    "### Шаг 3. Исследуйте данные и ответьте на вопросы"
   ]
  },
  {
   "cell_type": "markdown",
   "id": "c7f9fad6",
   "metadata": {
    "deletable": false,
    "editable": false,
    "id": "c5d66278"
   },
   "source": [
    "#### 3.1 Есть ли зависимость между количеством детей и возвратом кредита в срок?"
   ]
  },
  {
   "cell_type": "code",
   "execution_count": 22,
   "id": "a9423cce",
   "metadata": {
    "deletable": false,
    "id": "2cacfc4a"
   },
   "outputs": [
    {
     "data": {
      "text/html": [
       "<style  type=\"text/css\" >\n",
       "</style><table id=\"T_947fc_\" ><thead>    <tr>        <th class=\"blank level0\" ></th>        <th class=\"col_heading level0 col0\" >Кол-во заемщиков</th>        <th class=\"col_heading level0 col1\" >% невозврата</th>    </tr>    <tr>        <th class=\"index_name level0\" >children</th>        <th class=\"blank\" ></th>        <th class=\"blank\" ></th>    </tr></thead><tbody>\n",
       "                <tr>\n",
       "                        <th id=\"T_947fc_level0_row0\" class=\"row_heading level0 row0\" >5</th>\n",
       "                        <td id=\"T_947fc_row0_col0\" class=\"data row0 col0\" >9</td>\n",
       "                        <td id=\"T_947fc_row0_col1\" class=\"data row0 col1\" >0.00%</td>\n",
       "            </tr>\n",
       "            <tr>\n",
       "                        <th id=\"T_947fc_level0_row1\" class=\"row_heading level0 row1\" >0</th>\n",
       "                        <td id=\"T_947fc_row1_col0\" class=\"data row1 col0\" >14091</td>\n",
       "                        <td id=\"T_947fc_row1_col1\" class=\"data row1 col1\" >7.54%</td>\n",
       "            </tr>\n",
       "            <tr>\n",
       "                        <th id=\"T_947fc_level0_row2\" class=\"row_heading level0 row2\" >3</th>\n",
       "                        <td id=\"T_947fc_row2_col0\" class=\"data row2 col0\" >330</td>\n",
       "                        <td id=\"T_947fc_row2_col1\" class=\"data row2 col1\" >8.18%</td>\n",
       "            </tr>\n",
       "            <tr>\n",
       "                        <th id=\"T_947fc_level0_row3\" class=\"row_heading level0 row3\" >1</th>\n",
       "                        <td id=\"T_947fc_row3_col0\" class=\"data row3 col0\" >4808</td>\n",
       "                        <td id=\"T_947fc_row3_col1\" class=\"data row3 col1\" >9.23%</td>\n",
       "            </tr>\n",
       "            <tr>\n",
       "                        <th id=\"T_947fc_level0_row4\" class=\"row_heading level0 row4\" >2</th>\n",
       "                        <td id=\"T_947fc_row4_col0\" class=\"data row4 col0\" >2052</td>\n",
       "                        <td id=\"T_947fc_row4_col1\" class=\"data row4 col1\" >9.45%</td>\n",
       "            </tr>\n",
       "            <tr>\n",
       "                        <th id=\"T_947fc_level0_row5\" class=\"row_heading level0 row5\" >4</th>\n",
       "                        <td id=\"T_947fc_row5_col0\" class=\"data row5 col0\" >41</td>\n",
       "                        <td id=\"T_947fc_row5_col1\" class=\"data row5 col1\" >9.76%</td>\n",
       "            </tr>\n",
       "    </tbody></table>"
      ],
      "text/plain": [
       "<pandas.io.formats.style.Styler at 0x7fde7cab4df0>"
      ]
     },
     "execution_count": 22,
     "metadata": {},
     "output_type": "execute_result"
    }
   ],
   "source": [
    "# Ваш код будет здесь. Вы можете создавать новые ячейки.\n",
    "# Сгруппируем данные методами groupby() и agg()\n",
    "# Сгруппируем данные столбца 'children' с помощью метода groupby()\n",
    "# В метод agg() передадим словарь с ключом/столюцом 'debt' — имел ли задолженность по возврату кредитов\n",
    "# И значением — функциями, которые будут к этим столбцам применены\n",
    "# нам понадобится подсчет заемщиков с помощью функйции 'count' и среднее по столбцу — 'mean'\n",
    "children_amount = data.groupby('children').agg({'debt': ['count', 'mean']})\n",
    "children_amount.columns = ['Кол-во заемщиков', '% невозврата']\n",
    "sort_children_amount = children_amount.sort_values(by='% невозврата')\n",
    "sort_children_amount.style.format({'% невозврата': '{:.2%}'})\n"
   ]
  },
  {
   "cell_type": "markdown",
   "id": "f92a09a0",
   "metadata": {
    "deletable": false,
    "id": "3a6b99ec"
   },
   "source": [
    "**Вывод:** из предоставленных данных видно, что с *количеством детей* растет *% невозврата*. Отклонение среди заемщиков с тремя и пятью детьми скорее всего связано с недостаточным количеством данных."
   ]
  },
  {
   "cell_type": "markdown",
   "id": "eb5c422e",
   "metadata": {
    "deletable": false,
    "editable": false,
    "id": "97be82ca"
   },
   "source": [
    "#### 3.2 Есть ли зависимость между семейным положением и возвратом кредита в срок?"
   ]
  },
  {
   "cell_type": "code",
   "execution_count": 23,
   "id": "32e4009a",
   "metadata": {
    "deletable": false,
    "id": "dc3f7ee8",
    "scrolled": true
   },
   "outputs": [
    {
     "data": {
      "text/html": [
       "<style  type=\"text/css\" >\n",
       "</style><table id=\"T_d9819_\" ><thead>    <tr>        <th class=\"blank level0\" ></th>        <th class=\"col_heading level0 col0\" >Кол-во заемщиков</th>        <th class=\"col_heading level0 col1\" >% невозврата</th>    </tr>    <tr>        <th class=\"index_name level0\" >family_status</th>        <th class=\"blank\" ></th>        <th class=\"blank\" ></th>    </tr></thead><tbody>\n",
       "                <tr>\n",
       "                        <th id=\"T_d9819_level0_row0\" class=\"row_heading level0 row0\" >вдовец / вдова</th>\n",
       "                        <td id=\"T_d9819_row0_col0\" class=\"data row0 col0\" >951</td>\n",
       "                        <td id=\"T_d9819_row0_col1\" class=\"data row0 col1\" >6.62%</td>\n",
       "            </tr>\n",
       "            <tr>\n",
       "                        <th id=\"T_d9819_level0_row1\" class=\"row_heading level0 row1\" >в разводе</th>\n",
       "                        <td id=\"T_d9819_row1_col0\" class=\"data row1 col0\" >1189</td>\n",
       "                        <td id=\"T_d9819_row1_col1\" class=\"data row1 col1\" >7.06%</td>\n",
       "            </tr>\n",
       "            <tr>\n",
       "                        <th id=\"T_d9819_level0_row2\" class=\"row_heading level0 row2\" >женат / замужем</th>\n",
       "                        <td id=\"T_d9819_row2_col0\" class=\"data row2 col0\" >12261</td>\n",
       "                        <td id=\"T_d9819_row2_col1\" class=\"data row2 col1\" >7.56%</td>\n",
       "            </tr>\n",
       "            <tr>\n",
       "                        <th id=\"T_d9819_level0_row3\" class=\"row_heading level0 row3\" >гражданский брак</th>\n",
       "                        <td id=\"T_d9819_row3_col0\" class=\"data row3 col0\" >4134</td>\n",
       "                        <td id=\"T_d9819_row3_col1\" class=\"data row3 col1\" >9.31%</td>\n",
       "            </tr>\n",
       "            <tr>\n",
       "                        <th id=\"T_d9819_level0_row4\" class=\"row_heading level0 row4\" >Не женат / не замужем</th>\n",
       "                        <td id=\"T_d9819_row4_col0\" class=\"data row4 col0\" >2796</td>\n",
       "                        <td id=\"T_d9819_row4_col1\" class=\"data row4 col1\" >9.76%</td>\n",
       "            </tr>\n",
       "    </tbody></table>"
      ],
      "text/plain": [
       "<pandas.io.formats.style.Styler at 0x7fde7ad99220>"
      ]
     },
     "execution_count": 23,
     "metadata": {},
     "output_type": "execute_result"
    }
   ],
   "source": [
    "# Ваш код будет здесь. Вы можете создавать новые ячейки.\n",
    "depend_family_status = data.groupby('family_status').agg({'debt': ['count', 'mean']})\n",
    "depend_family_status.columns = ['Кол-во заемщиков', '% невозврата']\n",
    "sort_depend_family_status = depend_family_status.sort_values(by='% невозврата')\n",
    "sort_depend_family_status.style.format({'% невозврата': '{:.2%}'})\n"
   ]
  },
  {
   "cell_type": "markdown",
   "id": "ecfa946b",
   "metadata": {
    "deletable": false,
    "id": "1cef7837"
   },
   "source": [
    "**Вывод:** хорошо видна зависимогсть между ссемейным положением и возвратом кредита в срок. Люди которые не были в официальных отношениях возвращают кредиты в срок реже."
   ]
  },
  {
   "cell_type": "markdown",
   "id": "8972d19a",
   "metadata": {
    "deletable": false,
    "editable": false,
    "id": "1e8b2fca"
   },
   "source": [
    "#### 3.3 Есть ли зависимость между уровнем дохода и возвратом кредита в срок?"
   ]
  },
  {
   "cell_type": "code",
   "execution_count": 24,
   "id": "e0178fab",
   "metadata": {
    "deletable": false,
    "id": "cd7e3720"
   },
   "outputs": [
    {
     "data": {
      "text/html": [
       "<style  type=\"text/css\" >\n",
       "</style><table id=\"T_2ae55_\" ><thead>    <tr>        <th class=\"blank level0\" ></th>        <th class=\"col_heading level0 col0\" >Кол-во заемщиков</th>        <th class=\"col_heading level0 col1\" >% невозврата</th>    </tr>    <tr>        <th class=\"index_name level0\" >total_income_category</th>        <th class=\"blank\" ></th>        <th class=\"blank\" ></th>    </tr></thead><tbody>\n",
       "                <tr>\n",
       "                        <th id=\"T_2ae55_level0_row0\" class=\"row_heading level0 row0\" >D</th>\n",
       "                        <td id=\"T_2ae55_row0_col0\" class=\"data row0 col0\" >349</td>\n",
       "                        <td id=\"T_2ae55_row0_col1\" class=\"data row0 col1\" >6.02%</td>\n",
       "            </tr>\n",
       "            <tr>\n",
       "                        <th id=\"T_2ae55_level0_row1\" class=\"row_heading level0 row1\" >B</th>\n",
       "                        <td id=\"T_2ae55_row1_col0\" class=\"data row1 col0\" >5014</td>\n",
       "                        <td id=\"T_2ae55_row1_col1\" class=\"data row1 col1\" >7.06%</td>\n",
       "            </tr>\n",
       "            <tr>\n",
       "                        <th id=\"T_2ae55_level0_row2\" class=\"row_heading level0 row2\" >A</th>\n",
       "                        <td id=\"T_2ae55_row2_col0\" class=\"data row2 col0\" >25</td>\n",
       "                        <td id=\"T_2ae55_row2_col1\" class=\"data row2 col1\" >8.00%</td>\n",
       "            </tr>\n",
       "            <tr>\n",
       "                        <th id=\"T_2ae55_level0_row3\" class=\"row_heading level0 row3\" >C</th>\n",
       "                        <td id=\"T_2ae55_row3_col0\" class=\"data row3 col0\" >15921</td>\n",
       "                        <td id=\"T_2ae55_row3_col1\" class=\"data row3 col1\" >8.50%</td>\n",
       "            </tr>\n",
       "            <tr>\n",
       "                        <th id=\"T_2ae55_level0_row4\" class=\"row_heading level0 row4\" >E</th>\n",
       "                        <td id=\"T_2ae55_row4_col0\" class=\"data row4 col0\" >22</td>\n",
       "                        <td id=\"T_2ae55_row4_col1\" class=\"data row4 col1\" >9.09%</td>\n",
       "            </tr>\n",
       "    </tbody></table>"
      ],
      "text/plain": [
       "<pandas.io.formats.style.Styler at 0x7fde7ad99580>"
      ]
     },
     "execution_count": 24,
     "metadata": {},
     "output_type": "execute_result"
    }
   ],
   "source": [
    "# Ваш код будет здесь. Вы можете создавать новые ячейки.\n",
    "depend_income_category = data.groupby('total_income_category').agg({'debt': ['count', 'mean']})\n",
    "depend_income_category.columns = ['Кол-во заемщиков', '% невозврата']\n",
    "sort_depend_income_category = depend_income_category.sort_values(by='% невозврата')\n",
    "sort_depend_income_category.style.format({'% невозврата': '{:.2%}'})"
   ]
  },
  {
   "cell_type": "markdown",
   "id": "9e4eeb42",
   "metadata": {
    "deletable": false,
    "id": "e8593def"
   },
   "source": [
    "**Вывод:** Неудивительно, что наибольший % невозврата кредита у категории с самым низким уровнем дохода, однако обртаное утверждение неверно, категория с самым высоким доходом не имеет самый низкий % невозврата кредита. Однако смущает небольшое количество заемщиков в этих категориях, можем ли мы делать выводы на основании выборки из пары десятков человек. Рассматривая категории с большим количсевтвом заемщиков, зависимость между высоким уровнем дохода и низким % невозврата соблюдается только в категориях 'B' и 'C'."
   ]
  },
  {
   "cell_type": "markdown",
   "id": "97bb46c3",
   "metadata": {
    "deletable": false,
    "editable": false,
    "id": "99ecbd1f"
   },
   "source": [
    "#### 3.4 Как разные цели кредита влияют на его возврат в срок?"
   ]
  },
  {
   "cell_type": "code",
   "execution_count": 25,
   "id": "78d0cbf5",
   "metadata": {
    "deletable": false,
    "id": "2b687290"
   },
   "outputs": [
    {
     "data": {
      "text/html": [
       "<style  type=\"text/css\" >\n",
       "</style><table id=\"T_21646_\" ><thead>    <tr>        <th class=\"blank level0\" ></th>        <th class=\"col_heading level0 col0\" >Кол-во заемщиков</th>        <th class=\"col_heading level0 col1\" >% невозврата</th>    </tr>    <tr>        <th class=\"index_name level0\" >purpose_category</th>        <th class=\"blank\" ></th>        <th class=\"blank\" ></th>    </tr></thead><tbody>\n",
       "                <tr>\n",
       "                        <th id=\"T_21646_level0_row0\" class=\"row_heading level0 row0\" >операции с недвижимостью</th>\n",
       "                        <td id=\"T_21646_row0_col0\" class=\"data row0 col0\" >10751</td>\n",
       "                        <td id=\"T_21646_row0_col1\" class=\"data row0 col1\" >7.26%</td>\n",
       "            </tr>\n",
       "            <tr>\n",
       "                        <th id=\"T_21646_level0_row1\" class=\"row_heading level0 row1\" >проведение свадьбы</th>\n",
       "                        <td id=\"T_21646_row1_col0\" class=\"data row1 col0\" >2313</td>\n",
       "                        <td id=\"T_21646_row1_col1\" class=\"data row1 col1\" >7.91%</td>\n",
       "            </tr>\n",
       "            <tr>\n",
       "                        <th id=\"T_21646_level0_row2\" class=\"row_heading level0 row2\" >получение образования</th>\n",
       "                        <td id=\"T_21646_row2_col0\" class=\"data row2 col0\" >3988</td>\n",
       "                        <td id=\"T_21646_row2_col1\" class=\"data row2 col1\" >9.25%</td>\n",
       "            </tr>\n",
       "            <tr>\n",
       "                        <th id=\"T_21646_level0_row3\" class=\"row_heading level0 row3\" >операции с автомобилем</th>\n",
       "                        <td id=\"T_21646_row3_col0\" class=\"data row3 col0\" >4279</td>\n",
       "                        <td id=\"T_21646_row3_col1\" class=\"data row3 col1\" >9.35%</td>\n",
       "            </tr>\n",
       "    </tbody></table>"
      ],
      "text/plain": [
       "<pandas.io.formats.style.Styler at 0x7fde7ad99280>"
      ]
     },
     "execution_count": 25,
     "metadata": {},
     "output_type": "execute_result"
    }
   ],
   "source": [
    "# Ваш код будет здесь. Вы можете создавать новые ячейки.\n",
    "depend_purpose = data.groupby('purpose_category').agg({'debt': ['count', 'mean']})\n",
    "depend_purpose.columns = ['Кол-во заемщиков', '% невозврата']\n",
    "sort_depend_purpose = depend_purpose.sort_values(by='% невозврата')\n",
    "sort_depend_purpose.style.format({'% невозврата': '{:.2%}'})"
   ]
  },
  {
   "cell_type": "markdown",
   "id": "d9ade1be",
   "metadata": {
    "deletable": false,
    "id": "b4bb2ce6"
   },
   "source": [
    "**Вывод:** наименьший % невозврата имеют операции с недвижимостью, наибольший — операции с автомобилем, ненамного отстает категория целей связанная с образованием, а вот проведение свадем напротив стремится к наименьшему % невозврата. Все таки покупка недвижимости для многих взвешанный шаг. "
   ]
  },
  {
   "cell_type": "markdown",
   "id": "bc73ef0c",
   "metadata": {
    "deletable": false,
    "editable": false,
    "id": "09c3ac4c"
   },
   "source": [
    "#### 3.5 Приведите возможные причины появления пропусков в исходных данных."
   ]
  },
  {
   "cell_type": "markdown",
   "id": "facf333b",
   "metadata": {
    "deletable": false,
    "id": "9da2ceda"
   },
   "source": [
    "*Ответ:* В исходных данных не хватало данных в столбцах:\n",
    "**days_employed** — общий трудовой стаж в днях\n",
    "**total_income** — ежемесячный доход\n",
    "В обоих случаях это были количественные данные. Данные могли не сохраниться из-за технического сбоя, также, возможно, данные просто не были указаны изначально. Например указать общий трудовой стаж в днях задача не из легких. Возможно ответы на эти вопросы в анкете не были обязательными или не всегда были обязательными. "
   ]
  },
  {
   "cell_type": "markdown",
   "id": "87a53756",
   "metadata": {
    "deletable": false,
    "editable": false,
    "id": "7b0487d6"
   },
   "source": [
    "#### 3.6 Объясните, почему заполнить пропуски медианным значением — лучшее решение для количественных переменных."
   ]
  },
  {
   "cell_type": "markdown",
   "id": "19cde32b",
   "metadata": {
    "deletable": false,
    "id": "7ecf2b8e"
   },
   "source": [
    "*Ответ:* в выборке могут присутствовать выдающиеся значения (1000 против 10), поэтому среднее значение может искажать реальность. На медиану такой разброс значений в данных не повлияет."
   ]
  },
  {
   "cell_type": "markdown",
   "id": "8860b6a6",
   "metadata": {
    "deletable": false,
    "editable": false,
    "id": "6db5255a"
   },
   "source": [
    "### Шаг 4: общий вывод."
   ]
  },
  {
   "cell_type": "markdown",
   "id": "b3cba091",
   "metadata": {
    "deletable": false,
    "id": "bad65432"
   },
   "source": [
    "Напишите ваш общий вывод.\n",
    "\n",
    "Вопрос заказчика был в том, что влияет ли семейное положение и количество детей клиента на факт погашения кредита в срок. Обработав данные предоставленные заказчиком, могу сказать, что количество детей и семейное положение влияет на факт погашения кредита в срок. Чем больше детей, тем выше вероятность просрочки кредита. Также те клиенты которые офциально не состояли в браке, с большей вероятностью будут иметь проблемы с выплатой кредита в срок."
   ]
  }
 ],
 "metadata": {
  "ExecuteTimeLog": [
   {
    "duration": 52,
    "start_time": "2022-10-04T10:29:01.194Z"
   },
   {
    "duration": 5,
    "start_time": "2022-10-04T10:29:07.195Z"
   },
   {
    "duration": 6,
    "start_time": "2022-10-04T10:29:08.800Z"
   },
   {
    "duration": 665,
    "start_time": "2022-10-04T10:29:16.290Z"
   },
   {
    "duration": 27,
    "start_time": "2022-10-04T10:29:18.638Z"
   },
   {
    "duration": 16,
    "start_time": "2022-10-04T10:29:20.274Z"
   },
   {
    "duration": 11,
    "start_time": "2022-10-04T10:29:22.853Z"
   },
   {
    "duration": 36,
    "start_time": "2022-10-04T10:29:23.262Z"
   },
   {
    "duration": 4,
    "start_time": "2022-10-04T10:29:23.800Z"
   },
   {
    "duration": 8,
    "start_time": "2022-10-04T10:29:24.134Z"
   },
   {
    "duration": 4,
    "start_time": "2022-10-04T10:29:24.655Z"
   },
   {
    "duration": 7,
    "start_time": "2022-10-04T10:29:24.999Z"
   },
   {
    "duration": 4,
    "start_time": "2022-10-04T10:29:25.346Z"
   },
   {
    "duration": 37,
    "start_time": "2022-10-04T10:29:25.848Z"
   },
   {
    "duration": 10,
    "start_time": "2022-10-04T10:29:26.189Z"
   },
   {
    "duration": 4,
    "start_time": "2022-10-04T10:29:26.744Z"
   },
   {
    "duration": 19,
    "start_time": "2022-10-04T10:29:27.379Z"
   },
   {
    "duration": 24,
    "start_time": "2022-10-04T10:29:27.729Z"
   },
   {
    "duration": 19,
    "start_time": "2022-10-04T10:29:27.921Z"
   },
   {
    "duration": 4,
    "start_time": "2022-10-04T10:29:28.463Z"
   },
   {
    "duration": 14,
    "start_time": "2022-10-04T10:29:28.651Z"
   },
   {
    "duration": 7,
    "start_time": "2022-10-04T10:29:29.038Z"
   },
   {
    "duration": 4,
    "start_time": "2022-10-04T10:29:29.425Z"
   },
   {
    "duration": 9,
    "start_time": "2022-10-04T10:29:29.595Z"
   },
   {
    "duration": 29,
    "start_time": "2022-10-04T10:29:31.439Z"
   },
   {
    "duration": 7,
    "start_time": "2022-10-04T10:54:33.603Z"
   },
   {
    "duration": 11,
    "start_time": "2022-10-04T10:55:27.871Z"
   },
   {
    "duration": 6,
    "start_time": "2022-10-04T11:13:03.409Z"
   },
   {
    "duration": 7,
    "start_time": "2022-10-04T11:13:05.975Z"
   },
   {
    "duration": 9,
    "start_time": "2022-10-04T11:13:36.562Z"
   },
   {
    "duration": 10,
    "start_time": "2022-10-04T11:24:27.659Z"
   },
   {
    "duration": 10,
    "start_time": "2022-10-04T11:24:42.649Z"
   },
   {
    "duration": 10,
    "start_time": "2022-10-04T11:24:58.720Z"
   },
   {
    "duration": 52,
    "start_time": "2022-10-04T11:25:29.578Z"
   },
   {
    "duration": 831,
    "start_time": "2022-10-04T11:25:38.073Z"
   },
   {
    "duration": 9,
    "start_time": "2022-10-04T11:26:20.840Z"
   },
   {
    "duration": 8,
    "start_time": "2022-10-04T11:28:41.561Z"
   },
   {
    "duration": 832,
    "start_time": "2022-10-04T11:28:56.910Z"
   },
   {
    "duration": 7,
    "start_time": "2022-10-04T11:39:45.596Z"
   },
   {
    "duration": 9,
    "start_time": "2022-10-04T11:40:54.772Z"
   },
   {
    "duration": 7,
    "start_time": "2022-10-04T11:40:57.035Z"
   },
   {
    "duration": 12,
    "start_time": "2022-10-04T11:41:27.950Z"
   },
   {
    "duration": 450,
    "start_time": "2022-10-04T11:43:59.200Z"
   },
   {
    "duration": 12,
    "start_time": "2022-10-04T11:44:17.776Z"
   },
   {
    "duration": 28,
    "start_time": "2022-10-04T11:53:27.817Z"
   },
   {
    "duration": 11,
    "start_time": "2022-10-04T11:53:38.549Z"
   },
   {
    "duration": 77,
    "start_time": "2022-10-04T12:25:39.171Z"
   },
   {
    "duration": 16,
    "start_time": "2022-10-04T12:25:39.858Z"
   },
   {
    "duration": 16,
    "start_time": "2022-10-04T12:25:40.220Z"
   },
   {
    "duration": 10,
    "start_time": "2022-10-04T12:25:40.975Z"
   },
   {
    "duration": 35,
    "start_time": "2022-10-04T12:25:41.295Z"
   },
   {
    "duration": 3,
    "start_time": "2022-10-04T12:25:41.774Z"
   },
   {
    "duration": 7,
    "start_time": "2022-10-04T12:25:42.086Z"
   },
   {
    "duration": 4,
    "start_time": "2022-10-04T12:25:42.633Z"
   },
   {
    "duration": 6,
    "start_time": "2022-10-04T12:25:42.984Z"
   },
   {
    "duration": 5,
    "start_time": "2022-10-04T12:25:43.335Z"
   },
   {
    "duration": 34,
    "start_time": "2022-10-04T12:25:43.834Z"
   },
   {
    "duration": 10,
    "start_time": "2022-10-04T12:25:44.172Z"
   },
   {
    "duration": 3,
    "start_time": "2022-10-04T12:25:44.674Z"
   },
   {
    "duration": 11,
    "start_time": "2022-10-04T12:25:45.186Z"
   },
   {
    "duration": 20,
    "start_time": "2022-10-04T12:25:45.542Z"
   },
   {
    "duration": 18,
    "start_time": "2022-10-04T12:25:45.722Z"
   },
   {
    "duration": 4,
    "start_time": "2022-10-04T12:25:46.257Z"
   },
   {
    "duration": 10,
    "start_time": "2022-10-04T12:25:46.424Z"
   },
   {
    "duration": 6,
    "start_time": "2022-10-04T12:25:46.783Z"
   },
   {
    "duration": 4,
    "start_time": "2022-10-04T12:25:47.131Z"
   },
   {
    "duration": 11,
    "start_time": "2022-10-04T12:25:47.287Z"
   },
   {
    "duration": 11,
    "start_time": "2022-10-04T12:25:47.875Z"
   },
   {
    "duration": 22,
    "start_time": "2022-10-04T14:33:09.652Z"
   },
   {
    "duration": 11,
    "start_time": "2022-10-04T14:37:56.329Z"
   },
   {
    "duration": 10,
    "start_time": "2022-10-04T14:39:18.348Z"
   },
   {
    "duration": 12,
    "start_time": "2022-10-04T14:39:22.588Z"
   },
   {
    "duration": 70,
    "start_time": "2022-10-04T14:40:36.817Z"
   },
   {
    "duration": 16,
    "start_time": "2022-10-04T14:40:38.772Z"
   },
   {
    "duration": 15,
    "start_time": "2022-10-04T14:40:39.710Z"
   },
   {
    "duration": 12,
    "start_time": "2022-10-04T14:40:40.377Z"
   },
   {
    "duration": 34,
    "start_time": "2022-10-04T14:40:40.693Z"
   },
   {
    "duration": 3,
    "start_time": "2022-10-04T14:40:41.158Z"
   },
   {
    "duration": 8,
    "start_time": "2022-10-04T14:40:41.499Z"
   },
   {
    "duration": 4,
    "start_time": "2022-10-04T14:40:41.986Z"
   },
   {
    "duration": 5,
    "start_time": "2022-10-04T14:40:42.311Z"
   },
   {
    "duration": 4,
    "start_time": "2022-10-04T14:40:42.674Z"
   },
   {
    "duration": 34,
    "start_time": "2022-10-04T14:40:43.548Z"
   },
   {
    "duration": 10,
    "start_time": "2022-10-04T14:40:44.736Z"
   },
   {
    "duration": 4,
    "start_time": "2022-10-04T14:40:46.338Z"
   },
   {
    "duration": 14,
    "start_time": "2022-10-04T14:40:47.451Z"
   },
   {
    "duration": 22,
    "start_time": "2022-10-04T14:40:48.579Z"
   },
   {
    "duration": 18,
    "start_time": "2022-10-04T14:40:48.744Z"
   },
   {
    "duration": 3,
    "start_time": "2022-10-04T14:40:49.257Z"
   },
   {
    "duration": 10,
    "start_time": "2022-10-04T14:40:49.434Z"
   },
   {
    "duration": 7,
    "start_time": "2022-10-04T14:40:49.990Z"
   },
   {
    "duration": 3,
    "start_time": "2022-10-04T14:40:50.357Z"
   },
   {
    "duration": 10,
    "start_time": "2022-10-04T14:40:50.511Z"
   },
   {
    "duration": 11,
    "start_time": "2022-10-04T14:40:51.633Z"
   },
   {
    "duration": 10,
    "start_time": "2022-10-04T14:40:58.767Z"
   },
   {
    "duration": 11,
    "start_time": "2022-10-04T14:41:09.940Z"
   },
   {
    "duration": 71,
    "start_time": "2022-10-04T14:41:40.186Z"
   },
   {
    "duration": 14,
    "start_time": "2022-10-04T14:41:40.259Z"
   },
   {
    "duration": 17,
    "start_time": "2022-10-04T14:41:40.275Z"
   },
   {
    "duration": 10,
    "start_time": "2022-10-04T14:41:40.293Z"
   },
   {
    "duration": 60,
    "start_time": "2022-10-04T14:41:40.305Z"
   },
   {
    "duration": 4,
    "start_time": "2022-10-04T14:41:40.366Z"
   },
   {
    "duration": 11,
    "start_time": "2022-10-04T14:41:40.372Z"
   },
   {
    "duration": 5,
    "start_time": "2022-10-04T14:41:40.384Z"
   },
   {
    "duration": 7,
    "start_time": "2022-10-04T14:41:40.390Z"
   },
   {
    "duration": 4,
    "start_time": "2022-10-04T14:41:40.399Z"
   },
   {
    "duration": 60,
    "start_time": "2022-10-04T14:41:40.404Z"
   },
   {
    "duration": 10,
    "start_time": "2022-10-04T14:41:40.466Z"
   },
   {
    "duration": 7,
    "start_time": "2022-10-04T14:41:40.478Z"
   },
   {
    "duration": 14,
    "start_time": "2022-10-04T14:41:40.489Z"
   },
   {
    "duration": 35,
    "start_time": "2022-10-04T14:41:40.504Z"
   },
   {
    "duration": 20,
    "start_time": "2022-10-04T14:41:40.541Z"
   },
   {
    "duration": 6,
    "start_time": "2022-10-04T14:41:40.562Z"
   },
   {
    "duration": 13,
    "start_time": "2022-10-04T14:41:40.570Z"
   },
   {
    "duration": 6,
    "start_time": "2022-10-04T14:41:40.585Z"
   },
   {
    "duration": 7,
    "start_time": "2022-10-04T14:41:40.593Z"
   },
   {
    "duration": 12,
    "start_time": "2022-10-04T14:41:40.601Z"
   },
   {
    "duration": 11,
    "start_time": "2022-10-04T14:41:40.639Z"
   },
   {
    "duration": 13,
    "start_time": "2022-10-04T14:41:40.651Z"
   },
   {
    "duration": 3,
    "start_time": "2022-10-04T14:41:40.665Z"
   },
   {
    "duration": 6,
    "start_time": "2022-10-04T14:41:40.669Z"
   },
   {
    "duration": 10,
    "start_time": "2022-10-04T14:43:24.045Z"
   },
   {
    "duration": 451,
    "start_time": "2022-10-04T14:43:42.200Z"
   },
   {
    "duration": 23,
    "start_time": "2022-10-04T14:43:43.672Z"
   },
   {
    "duration": 15,
    "start_time": "2022-10-04T14:43:44.623Z"
   },
   {
    "duration": 11,
    "start_time": "2022-10-04T14:43:45.294Z"
   },
   {
    "duration": 34,
    "start_time": "2022-10-04T14:43:45.617Z"
   },
   {
    "duration": 4,
    "start_time": "2022-10-04T14:43:46.091Z"
   },
   {
    "duration": 8,
    "start_time": "2022-10-04T14:43:46.423Z"
   },
   {
    "duration": 4,
    "start_time": "2022-10-04T14:43:46.920Z"
   },
   {
    "duration": 9,
    "start_time": "2022-10-04T14:43:47.256Z"
   },
   {
    "duration": 4,
    "start_time": "2022-10-04T14:43:47.591Z"
   },
   {
    "duration": 34,
    "start_time": "2022-10-04T14:43:48.088Z"
   },
   {
    "duration": 10,
    "start_time": "2022-10-04T14:43:48.418Z"
   },
   {
    "duration": 3,
    "start_time": "2022-10-04T14:43:48.963Z"
   },
   {
    "duration": 11,
    "start_time": "2022-10-04T14:43:49.517Z"
   },
   {
    "duration": 20,
    "start_time": "2022-10-04T14:43:49.872Z"
   },
   {
    "duration": 17,
    "start_time": "2022-10-04T14:43:50.072Z"
   },
   {
    "duration": 4,
    "start_time": "2022-10-04T14:43:52.587Z"
   },
   {
    "duration": 9,
    "start_time": "2022-10-04T14:43:53.520Z"
   },
   {
    "duration": 5,
    "start_time": "2022-10-04T14:43:55.780Z"
   },
   {
    "duration": 3,
    "start_time": "2022-10-04T14:43:57.019Z"
   },
   {
    "duration": 8,
    "start_time": "2022-10-04T14:43:57.658Z"
   },
   {
    "duration": 315,
    "start_time": "2022-10-04T14:44:02.146Z"
   },
   {
    "duration": 11,
    "start_time": "2022-10-04T14:44:12.637Z"
   },
   {
    "duration": 12,
    "start_time": "2022-10-04T14:44:57.636Z"
   },
   {
    "duration": 9,
    "start_time": "2022-10-04T14:45:02.485Z"
   },
   {
    "duration": 10,
    "start_time": "2022-10-04T14:46:13.020Z"
   },
   {
    "duration": 18,
    "start_time": "2022-10-04T14:47:28.780Z"
   },
   {
    "duration": 15,
    "start_time": "2022-10-04T14:48:23.135Z"
   },
   {
    "duration": 52,
    "start_time": "2022-10-04T14:48:41.182Z"
   },
   {
    "duration": 506,
    "start_time": "2022-10-04T14:48:53.719Z"
   },
   {
    "duration": 23,
    "start_time": "2022-10-04T14:48:54.227Z"
   },
   {
    "duration": 16,
    "start_time": "2022-10-04T14:48:54.251Z"
   },
   {
    "duration": 9,
    "start_time": "2022-10-04T14:48:54.268Z"
   },
   {
    "duration": 40,
    "start_time": "2022-10-04T14:48:54.279Z"
   },
   {
    "duration": 4,
    "start_time": "2022-10-04T14:48:54.343Z"
   },
   {
    "duration": 17,
    "start_time": "2022-10-04T14:48:54.349Z"
   },
   {
    "duration": 7,
    "start_time": "2022-10-04T14:48:54.368Z"
   },
   {
    "duration": 12,
    "start_time": "2022-10-04T14:48:54.376Z"
   },
   {
    "duration": 4,
    "start_time": "2022-10-04T14:48:54.389Z"
   },
   {
    "duration": 45,
    "start_time": "2022-10-04T14:48:54.395Z"
   },
   {
    "duration": 10,
    "start_time": "2022-10-04T14:48:54.442Z"
   },
   {
    "duration": 4,
    "start_time": "2022-10-04T14:48:54.453Z"
   },
   {
    "duration": 12,
    "start_time": "2022-10-04T14:48:54.460Z"
   },
   {
    "duration": 21,
    "start_time": "2022-10-04T14:48:54.473Z"
   },
   {
    "duration": 16,
    "start_time": "2022-10-04T14:48:54.496Z"
   },
   {
    "duration": 26,
    "start_time": "2022-10-04T14:48:54.513Z"
   },
   {
    "duration": 16,
    "start_time": "2022-10-04T14:48:54.541Z"
   },
   {
    "duration": 5,
    "start_time": "2022-10-04T14:48:54.559Z"
   },
   {
    "duration": 5,
    "start_time": "2022-10-04T14:48:54.566Z"
   },
   {
    "duration": 12,
    "start_time": "2022-10-04T14:48:54.572Z"
   },
   {
    "duration": 287,
    "start_time": "2022-10-04T14:48:54.586Z"
   },
   {
    "duration": 10,
    "start_time": "2022-10-04T14:48:54.874Z"
   },
   {
    "duration": 14,
    "start_time": "2022-10-04T14:48:54.885Z"
   },
   {
    "duration": 10,
    "start_time": "2022-10-04T14:48:54.901Z"
   },
   {
    "duration": 12,
    "start_time": "2022-10-04T14:49:00.776Z"
   },
   {
    "duration": 43,
    "start_time": "2022-10-04T14:49:33.325Z"
   },
   {
    "duration": 11,
    "start_time": "2022-10-04T14:49:37.350Z"
   },
   {
    "duration": 14,
    "start_time": "2022-10-04T14:49:50.122Z"
   },
   {
    "duration": 11,
    "start_time": "2022-10-04T14:50:10.372Z"
   },
   {
    "duration": 10,
    "start_time": "2022-10-04T14:50:22.843Z"
   },
   {
    "duration": 17,
    "start_time": "2022-10-04T14:53:10.333Z"
   },
   {
    "duration": 11,
    "start_time": "2022-10-04T14:53:33.206Z"
   },
   {
    "duration": 20,
    "start_time": "2022-10-04T14:53:37.206Z"
   },
   {
    "duration": 13,
    "start_time": "2022-10-04T14:54:06.076Z"
   },
   {
    "duration": 12,
    "start_time": "2022-10-04T14:54:42.684Z"
   },
   {
    "duration": 13,
    "start_time": "2022-10-04T14:55:07.205Z"
   },
   {
    "duration": 1991,
    "start_time": "2022-10-04T14:55:18.356Z"
   },
   {
    "duration": 31,
    "start_time": "2022-10-04T14:56:18.563Z"
   },
   {
    "duration": 11,
    "start_time": "2022-10-04T14:57:05.848Z"
   },
   {
    "duration": 14,
    "start_time": "2022-10-04T14:57:43.765Z"
   },
   {
    "duration": 14,
    "start_time": "2022-10-04T14:57:52.631Z"
   },
   {
    "duration": 19,
    "start_time": "2022-10-04T14:58:14.443Z"
   },
   {
    "duration": 11,
    "start_time": "2022-10-04T14:58:28.373Z"
   },
   {
    "duration": 43,
    "start_time": "2022-10-04T18:25:40.473Z"
   },
   {
    "duration": 755,
    "start_time": "2022-10-04T18:25:57.682Z"
   },
   {
    "duration": 31,
    "start_time": "2022-10-04T18:25:58.440Z"
   },
   {
    "duration": 16,
    "start_time": "2022-10-04T18:25:58.473Z"
   },
   {
    "duration": 12,
    "start_time": "2022-10-04T18:25:58.491Z"
   },
   {
    "duration": 43,
    "start_time": "2022-10-04T18:25:58.505Z"
   },
   {
    "duration": 4,
    "start_time": "2022-10-04T18:25:58.551Z"
   },
   {
    "duration": 13,
    "start_time": "2022-10-04T18:25:58.556Z"
   },
   {
    "duration": 7,
    "start_time": "2022-10-04T18:25:58.571Z"
   },
   {
    "duration": 28,
    "start_time": "2022-10-04T18:25:58.580Z"
   },
   {
    "duration": 5,
    "start_time": "2022-10-04T18:25:58.611Z"
   },
   {
    "duration": 50,
    "start_time": "2022-10-04T18:25:58.618Z"
   },
   {
    "duration": 32,
    "start_time": "2022-10-04T18:25:58.669Z"
   },
   {
    "duration": 4,
    "start_time": "2022-10-04T18:25:58.703Z"
   },
   {
    "duration": 16,
    "start_time": "2022-10-04T18:25:58.709Z"
   },
   {
    "duration": 21,
    "start_time": "2022-10-04T18:25:58.726Z"
   },
   {
    "duration": 17,
    "start_time": "2022-10-04T18:25:58.749Z"
   },
   {
    "duration": 4,
    "start_time": "2022-10-04T18:25:58.768Z"
   },
   {
    "duration": 37,
    "start_time": "2022-10-04T18:25:58.773Z"
   },
   {
    "duration": 16,
    "start_time": "2022-10-04T18:25:58.812Z"
   },
   {
    "duration": 4,
    "start_time": "2022-10-04T18:25:58.830Z"
   },
   {
    "duration": 17,
    "start_time": "2022-10-04T18:25:58.836Z"
   },
   {
    "duration": 459,
    "start_time": "2022-10-04T18:25:58.855Z"
   },
   {
    "duration": 39,
    "start_time": "2022-10-04T18:25:59.316Z"
   },
   {
    "duration": 0,
    "start_time": "2022-10-04T18:25:59.356Z"
   },
   {
    "duration": 0,
    "start_time": "2022-10-04T18:25:59.357Z"
   },
   {
    "duration": 10,
    "start_time": "2022-10-04T18:26:09.095Z"
   },
   {
    "duration": 12,
    "start_time": "2022-10-04T18:26:12.130Z"
   },
   {
    "duration": 12,
    "start_time": "2022-10-04T18:26:26.477Z"
   },
   {
    "duration": 12,
    "start_time": "2022-10-04T18:26:38.427Z"
   },
   {
    "duration": 12,
    "start_time": "2022-10-04T18:27:05.695Z"
   },
   {
    "duration": 15,
    "start_time": "2022-10-04T18:27:52.797Z"
   },
   {
    "duration": 11,
    "start_time": "2022-10-04T18:28:03.810Z"
   },
   {
    "duration": 15,
    "start_time": "2022-10-04T18:29:40.586Z"
   },
   {
    "duration": 12,
    "start_time": "2022-10-04T18:29:54.134Z"
   },
   {
    "duration": 13,
    "start_time": "2022-10-04T18:30:09.844Z"
   },
   {
    "duration": 12,
    "start_time": "2022-10-04T18:30:21.437Z"
   },
   {
    "duration": 14,
    "start_time": "2022-10-04T18:30:35.719Z"
   },
   {
    "duration": 10,
    "start_time": "2022-10-04T18:30:47.684Z"
   },
   {
    "duration": 11,
    "start_time": "2022-10-04T18:31:21.321Z"
   },
   {
    "duration": 13,
    "start_time": "2022-10-04T18:31:29.890Z"
   },
   {
    "duration": 13,
    "start_time": "2022-10-04T18:32:24.735Z"
   },
   {
    "duration": 13,
    "start_time": "2022-10-04T18:34:03.422Z"
   },
   {
    "duration": 11,
    "start_time": "2022-10-04T18:34:42.070Z"
   },
   {
    "duration": 63,
    "start_time": "2022-10-04T18:36:42.916Z"
   },
   {
    "duration": 12,
    "start_time": "2022-10-04T18:36:54.267Z"
   },
   {
    "duration": 14,
    "start_time": "2022-10-04T18:37:34.435Z"
   },
   {
    "duration": 10,
    "start_time": "2022-10-04T18:39:36.268Z"
   },
   {
    "duration": 11,
    "start_time": "2022-10-04T18:40:33.119Z"
   },
   {
    "duration": 13,
    "start_time": "2022-10-04T18:40:54.576Z"
   },
   {
    "duration": 11,
    "start_time": "2022-10-04T18:51:30.163Z"
   },
   {
    "duration": 11,
    "start_time": "2022-10-04T19:08:11.961Z"
   },
   {
    "duration": 12,
    "start_time": "2022-10-04T19:09:10.778Z"
   },
   {
    "duration": 10,
    "start_time": "2022-10-04T19:10:32.693Z"
   },
   {
    "duration": 70,
    "start_time": "2022-10-04T19:19:58.125Z"
   },
   {
    "duration": 12,
    "start_time": "2022-10-04T19:20:08.229Z"
   },
   {
    "duration": 66,
    "start_time": "2022-10-04T19:20:16.928Z"
   },
   {
    "duration": 426,
    "start_time": "2022-10-04T19:20:26.430Z"
   },
   {
    "duration": 21,
    "start_time": "2022-10-04T19:20:26.858Z"
   },
   {
    "duration": 29,
    "start_time": "2022-10-04T19:20:26.880Z"
   },
   {
    "duration": 10,
    "start_time": "2022-10-04T19:20:26.910Z"
   },
   {
    "duration": 52,
    "start_time": "2022-10-04T19:20:26.922Z"
   },
   {
    "duration": 6,
    "start_time": "2022-10-04T19:20:26.975Z"
   },
   {
    "duration": 39,
    "start_time": "2022-10-04T19:20:26.983Z"
   },
   {
    "duration": 24,
    "start_time": "2022-10-04T19:20:27.024Z"
   },
   {
    "duration": 20,
    "start_time": "2022-10-04T19:20:27.049Z"
   },
   {
    "duration": 21,
    "start_time": "2022-10-04T19:20:27.070Z"
   },
   {
    "duration": 47,
    "start_time": "2022-10-04T19:20:27.093Z"
   },
   {
    "duration": 9,
    "start_time": "2022-10-04T19:20:27.142Z"
   },
   {
    "duration": 28,
    "start_time": "2022-10-04T19:20:27.152Z"
   },
   {
    "duration": 27,
    "start_time": "2022-10-04T19:20:27.183Z"
   },
   {
    "duration": 40,
    "start_time": "2022-10-04T19:20:27.212Z"
   },
   {
    "duration": 15,
    "start_time": "2022-10-04T19:20:27.254Z"
   },
   {
    "duration": 16,
    "start_time": "2022-10-04T19:20:27.270Z"
   },
   {
    "duration": 30,
    "start_time": "2022-10-04T19:20:27.288Z"
   },
   {
    "duration": 23,
    "start_time": "2022-10-04T19:20:27.320Z"
   },
   {
    "duration": 29,
    "start_time": "2022-10-04T19:20:27.344Z"
   },
   {
    "duration": 29,
    "start_time": "2022-10-04T19:20:27.375Z"
   },
   {
    "duration": 275,
    "start_time": "2022-10-04T19:20:27.406Z"
   },
   {
    "duration": 80,
    "start_time": "2022-10-04T19:20:27.683Z"
   },
   {
    "duration": 0,
    "start_time": "2022-10-04T19:20:27.765Z"
   },
   {
    "duration": 0,
    "start_time": "2022-10-04T19:20:27.766Z"
   },
   {
    "duration": 13,
    "start_time": "2022-10-04T19:20:38.035Z"
   },
   {
    "duration": 73,
    "start_time": "2022-10-04T19:20:42.382Z"
   },
   {
    "duration": 15,
    "start_time": "2022-10-04T19:20:43.910Z"
   },
   {
    "duration": 14,
    "start_time": "2022-10-04T19:20:44.301Z"
   },
   {
    "duration": 9,
    "start_time": "2022-10-04T19:20:45.260Z"
   },
   {
    "duration": 29,
    "start_time": "2022-10-04T19:20:45.600Z"
   },
   {
    "duration": 3,
    "start_time": "2022-10-04T19:20:46.111Z"
   },
   {
    "duration": 7,
    "start_time": "2022-10-04T19:20:46.447Z"
   },
   {
    "duration": 5,
    "start_time": "2022-10-04T19:20:48.328Z"
   },
   {
    "duration": 6,
    "start_time": "2022-10-04T19:20:48.680Z"
   },
   {
    "duration": 4,
    "start_time": "2022-10-04T19:20:49.047Z"
   },
   {
    "duration": 31,
    "start_time": "2022-10-04T19:20:49.566Z"
   },
   {
    "duration": 9,
    "start_time": "2022-10-04T19:20:49.939Z"
   },
   {
    "duration": 4,
    "start_time": "2022-10-04T19:20:50.404Z"
   },
   {
    "duration": 10,
    "start_time": "2022-10-04T19:20:50.992Z"
   },
   {
    "duration": 20,
    "start_time": "2022-10-04T19:20:51.232Z"
   },
   {
    "duration": 21,
    "start_time": "2022-10-04T19:20:51.418Z"
   },
   {
    "duration": 3,
    "start_time": "2022-10-04T19:20:52.370Z"
   },
   {
    "duration": 11,
    "start_time": "2022-10-04T19:20:53.157Z"
   },
   {
    "duration": 5,
    "start_time": "2022-10-04T19:20:54.283Z"
   },
   {
    "duration": 3,
    "start_time": "2022-10-04T19:20:55.603Z"
   },
   {
    "duration": 8,
    "start_time": "2022-10-04T19:20:56.270Z"
   },
   {
    "duration": 11,
    "start_time": "2022-10-04T19:21:01.885Z"
   },
   {
    "duration": 13,
    "start_time": "2022-10-04T19:21:18.828Z"
   },
   {
    "duration": 18,
    "start_time": "2022-10-04T19:21:32.360Z"
   },
   {
    "duration": 14,
    "start_time": "2022-10-04T19:21:44.505Z"
   },
   {
    "duration": 11,
    "start_time": "2022-10-04T19:22:06.002Z"
   },
   {
    "duration": 11,
    "start_time": "2022-10-04T19:22:18.563Z"
   },
   {
    "duration": 467,
    "start_time": "2022-10-04T19:46:22.081Z"
   },
   {
    "duration": 19,
    "start_time": "2022-10-04T19:46:23.057Z"
   },
   {
    "duration": 14,
    "start_time": "2022-10-04T19:46:23.407Z"
   },
   {
    "duration": 12,
    "start_time": "2022-10-04T19:46:24.124Z"
   },
   {
    "duration": 32,
    "start_time": "2022-10-04T19:46:24.907Z"
   },
   {
    "duration": 3,
    "start_time": "2022-10-04T19:46:28.033Z"
   },
   {
    "duration": 7,
    "start_time": "2022-10-04T19:46:28.834Z"
   },
   {
    "duration": 4,
    "start_time": "2022-10-04T19:46:30.215Z"
   },
   {
    "duration": 6,
    "start_time": "2022-10-04T19:46:31.155Z"
   },
   {
    "duration": 4,
    "start_time": "2022-10-04T19:46:31.519Z"
   },
   {
    "duration": 44,
    "start_time": "2022-10-04T19:46:32.117Z"
   },
   {
    "duration": 9,
    "start_time": "2022-10-04T19:46:33.076Z"
   },
   {
    "duration": 3,
    "start_time": "2022-10-04T19:46:34.755Z"
   },
   {
    "duration": 10,
    "start_time": "2022-10-04T19:46:36.090Z"
   },
   {
    "duration": 18,
    "start_time": "2022-10-04T19:46:37.256Z"
   },
   {
    "duration": 15,
    "start_time": "2022-10-04T19:46:38.197Z"
   },
   {
    "duration": 3,
    "start_time": "2022-10-04T19:46:40.808Z"
   },
   {
    "duration": 10,
    "start_time": "2022-10-04T19:46:42.120Z"
   },
   {
    "duration": 6,
    "start_time": "2022-10-04T19:46:43.405Z"
   },
   {
    "duration": 4,
    "start_time": "2022-10-04T19:46:44.489Z"
   },
   {
    "duration": 8,
    "start_time": "2022-10-04T19:46:44.948Z"
   },
   {
    "duration": 245,
    "start_time": "2022-10-04T19:46:46.438Z"
   },
   {
    "duration": 11,
    "start_time": "2022-10-04T19:46:48.188Z"
   },
   {
    "duration": 11,
    "start_time": "2022-10-04T19:46:50.098Z"
   },
   {
    "duration": 12,
    "start_time": "2022-10-04T19:46:52.828Z"
   },
   {
    "duration": 511,
    "start_time": "2022-10-04T21:18:36.892Z"
   },
   {
    "duration": 21,
    "start_time": "2022-10-04T21:18:37.405Z"
   },
   {
    "duration": 13,
    "start_time": "2022-10-04T21:18:37.428Z"
   },
   {
    "duration": 13,
    "start_time": "2022-10-04T21:18:37.443Z"
   },
   {
    "duration": 39,
    "start_time": "2022-10-04T21:18:37.457Z"
   },
   {
    "duration": 3,
    "start_time": "2022-10-04T21:18:37.498Z"
   },
   {
    "duration": 19,
    "start_time": "2022-10-04T21:18:37.503Z"
   },
   {
    "duration": 6,
    "start_time": "2022-10-04T21:18:37.524Z"
   },
   {
    "duration": 15,
    "start_time": "2022-10-04T21:18:37.532Z"
   },
   {
    "duration": 4,
    "start_time": "2022-10-04T21:18:37.549Z"
   },
   {
    "duration": 41,
    "start_time": "2022-10-04T21:18:37.555Z"
   },
   {
    "duration": 9,
    "start_time": "2022-10-04T21:18:37.598Z"
   },
   {
    "duration": 9,
    "start_time": "2022-10-04T21:18:37.609Z"
   },
   {
    "duration": 14,
    "start_time": "2022-10-04T21:18:37.619Z"
   },
   {
    "duration": 21,
    "start_time": "2022-10-04T21:18:37.634Z"
   },
   {
    "duration": 16,
    "start_time": "2022-10-04T21:18:37.657Z"
   },
   {
    "duration": 20,
    "start_time": "2022-10-04T21:18:37.675Z"
   },
   {
    "duration": 9,
    "start_time": "2022-10-04T21:18:37.696Z"
   },
   {
    "duration": 8,
    "start_time": "2022-10-04T21:18:37.706Z"
   },
   {
    "duration": 6,
    "start_time": "2022-10-04T21:18:37.716Z"
   },
   {
    "duration": 13,
    "start_time": "2022-10-04T21:18:37.724Z"
   },
   {
    "duration": 284,
    "start_time": "2022-10-04T21:18:37.738Z"
   },
   {
    "duration": 11,
    "start_time": "2022-10-04T21:18:38.024Z"
   },
   {
    "duration": 13,
    "start_time": "2022-10-04T21:18:38.037Z"
   },
   {
    "duration": 12,
    "start_time": "2022-10-04T21:18:38.051Z"
   },
   {
    "duration": 61,
    "start_time": "2022-10-05T10:12:11.549Z"
   },
   {
    "duration": 123,
    "start_time": "2022-10-05T10:21:19.861Z"
   },
   {
    "duration": 89,
    "start_time": "2022-10-05T10:22:32.513Z"
   },
   {
    "duration": 45,
    "start_time": "2022-10-05T10:22:47.281Z"
   },
   {
    "duration": 62,
    "start_time": "2022-10-05T10:22:49.435Z"
   }
  ],
  "colab": {
   "name": "dpp_template_part2.ipynb",
   "provenance": []
  },
  "kernelspec": {
   "display_name": "Python 3 (ipykernel)",
   "language": "python",
   "name": "python3"
  },
  "language_info": {
   "codemirror_mode": {
    "name": "ipython",
    "version": 3
   },
   "file_extension": ".py",
   "mimetype": "text/x-python",
   "name": "python",
   "nbconvert_exporter": "python",
   "pygments_lexer": "ipython3",
   "version": "3.9.12"
  },
  "toc": {
   "base_numbering": 1,
   "nav_menu": {},
   "number_sections": true,
   "sideBar": true,
   "skip_h1_title": true,
   "title_cell": "Table of Contents",
   "title_sidebar": "Contents",
   "toc_cell": false,
   "toc_position": {},
   "toc_section_display": true,
   "toc_window_display": false
  }
 },
 "nbformat": 4,
 "nbformat_minor": 5
}
