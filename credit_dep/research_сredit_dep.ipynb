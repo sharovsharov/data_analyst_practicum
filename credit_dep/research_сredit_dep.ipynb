{
 "cells": [
  {
   "cell_type": "markdown",
   "id": "59024577",
   "metadata": {},
   "source": [
    "# Исследование надёжности заёмщиков — анализ банковских данных"
   ]
  },
  {
   "cell_type": "markdown",
   "id": "aff28f06",
   "metadata": {},
   "source": [
    "## Цель исследования:\n",
    "\n",
    "На основе статистики о платёжеспособности клиентов исследовать влияет ли семейное положение и количество детей клиента на факт возврата кредита в срок"
   ]
  },
  {
   "cell_type": "code",
   "execution_count": 1,
   "id": "0912ec3b",
   "metadata": {},
   "outputs": [],
   "source": [
    "import pandas as pd"
   ]
  },
  {
   "cell_type": "code",
   "execution_count": 2,
   "id": "73b81c7c",
   "metadata": {},
   "outputs": [],
   "source": [
    "data = pd.read_csv('Downloads/data.csv')"
   ]
  },
  {
   "cell_type": "code",
   "execution_count": 3,
   "id": "6cd1f241",
   "metadata": {},
   "outputs": [
    {
     "data": {
      "text/html": [
       "<div>\n",
       "<style scoped>\n",
       "    .dataframe tbody tr th:only-of-type {\n",
       "        vertical-align: middle;\n",
       "    }\n",
       "\n",
       "    .dataframe tbody tr th {\n",
       "        vertical-align: top;\n",
       "    }\n",
       "\n",
       "    .dataframe thead th {\n",
       "        text-align: right;\n",
       "    }\n",
       "</style>\n",
       "<table border=\"1\" class=\"dataframe\">\n",
       "  <thead>\n",
       "    <tr style=\"text-align: right;\">\n",
       "      <th></th>\n",
       "      <th>children</th>\n",
       "      <th>days_employed</th>\n",
       "      <th>dob_years</th>\n",
       "      <th>education</th>\n",
       "      <th>education_id</th>\n",
       "      <th>family_status</th>\n",
       "      <th>family_status_id</th>\n",
       "      <th>gender</th>\n",
       "      <th>income_type</th>\n",
       "      <th>debt</th>\n",
       "      <th>total_income</th>\n",
       "      <th>purpose</th>\n",
       "    </tr>\n",
       "  </thead>\n",
       "  <tbody>\n",
       "    <tr>\n",
       "      <th>0</th>\n",
       "      <td>1</td>\n",
       "      <td>-8437.673028</td>\n",
       "      <td>42</td>\n",
       "      <td>высшее</td>\n",
       "      <td>0</td>\n",
       "      <td>женат / замужем</td>\n",
       "      <td>0</td>\n",
       "      <td>F</td>\n",
       "      <td>сотрудник</td>\n",
       "      <td>0</td>\n",
       "      <td>253875.639453</td>\n",
       "      <td>покупка жилья</td>\n",
       "    </tr>\n",
       "    <tr>\n",
       "      <th>1</th>\n",
       "      <td>1</td>\n",
       "      <td>-4024.803754</td>\n",
       "      <td>36</td>\n",
       "      <td>среднее</td>\n",
       "      <td>1</td>\n",
       "      <td>женат / замужем</td>\n",
       "      <td>0</td>\n",
       "      <td>F</td>\n",
       "      <td>сотрудник</td>\n",
       "      <td>0</td>\n",
       "      <td>112080.014102</td>\n",
       "      <td>приобретение автомобиля</td>\n",
       "    </tr>\n",
       "    <tr>\n",
       "      <th>2</th>\n",
       "      <td>0</td>\n",
       "      <td>-5623.422610</td>\n",
       "      <td>33</td>\n",
       "      <td>Среднее</td>\n",
       "      <td>1</td>\n",
       "      <td>женат / замужем</td>\n",
       "      <td>0</td>\n",
       "      <td>M</td>\n",
       "      <td>сотрудник</td>\n",
       "      <td>0</td>\n",
       "      <td>145885.952297</td>\n",
       "      <td>покупка жилья</td>\n",
       "    </tr>\n",
       "    <tr>\n",
       "      <th>3</th>\n",
       "      <td>3</td>\n",
       "      <td>-4124.747207</td>\n",
       "      <td>32</td>\n",
       "      <td>среднее</td>\n",
       "      <td>1</td>\n",
       "      <td>женат / замужем</td>\n",
       "      <td>0</td>\n",
       "      <td>M</td>\n",
       "      <td>сотрудник</td>\n",
       "      <td>0</td>\n",
       "      <td>267628.550329</td>\n",
       "      <td>дополнительное образование</td>\n",
       "    </tr>\n",
       "    <tr>\n",
       "      <th>4</th>\n",
       "      <td>0</td>\n",
       "      <td>340266.072047</td>\n",
       "      <td>53</td>\n",
       "      <td>среднее</td>\n",
       "      <td>1</td>\n",
       "      <td>гражданский брак</td>\n",
       "      <td>1</td>\n",
       "      <td>F</td>\n",
       "      <td>пенсионер</td>\n",
       "      <td>0</td>\n",
       "      <td>158616.077870</td>\n",
       "      <td>сыграть свадьбу</td>\n",
       "    </tr>\n",
       "  </tbody>\n",
       "</table>\n",
       "</div>"
      ],
      "text/plain": [
       "   children  days_employed  dob_years education  education_id  \\\n",
       "0         1   -8437.673028         42    высшее             0   \n",
       "1         1   -4024.803754         36   среднее             1   \n",
       "2         0   -5623.422610         33   Среднее             1   \n",
       "3         3   -4124.747207         32   среднее             1   \n",
       "4         0  340266.072047         53   среднее             1   \n",
       "\n",
       "      family_status  family_status_id gender income_type  debt   total_income  \\\n",
       "0   женат / замужем                 0      F   сотрудник     0  253875.639453   \n",
       "1   женат / замужем                 0      F   сотрудник     0  112080.014102   \n",
       "2   женат / замужем                 0      M   сотрудник     0  145885.952297   \n",
       "3   женат / замужем                 0      M   сотрудник     0  267628.550329   \n",
       "4  гражданский брак                 1      F   пенсионер     0  158616.077870   \n",
       "\n",
       "                      purpose  \n",
       "0               покупка жилья  \n",
       "1     приобретение автомобиля  \n",
       "2               покупка жилья  \n",
       "3  дополнительное образование  \n",
       "4             сыграть свадьбу  "
      ]
     },
     "execution_count": 3,
     "metadata": {},
     "output_type": "execute_result"
    }
   ],
   "source": [
    "data.head()"
   ]
  },
  {
   "cell_type": "code",
   "execution_count": 4,
   "id": "e0bf7abc",
   "metadata": {},
   "outputs": [
    {
     "name": "stdout",
     "output_type": "stream",
     "text": [
      "<class 'pandas.core.frame.DataFrame'>\n",
      "RangeIndex: 21525 entries, 0 to 21524\n",
      "Data columns (total 12 columns):\n",
      " #   Column            Non-Null Count  Dtype  \n",
      "---  ------            --------------  -----  \n",
      " 0   children          21525 non-null  int64  \n",
      " 1   days_employed     19351 non-null  float64\n",
      " 2   dob_years         21525 non-null  int64  \n",
      " 3   education         21525 non-null  object \n",
      " 4   education_id      21525 non-null  int64  \n",
      " 5   family_status     21525 non-null  object \n",
      " 6   family_status_id  21525 non-null  int64  \n",
      " 7   gender            21525 non-null  object \n",
      " 8   income_type       21525 non-null  object \n",
      " 9   debt              21525 non-null  int64  \n",
      " 10  total_income      19351 non-null  float64\n",
      " 11  purpose           21525 non-null  object \n",
      "dtypes: float64(2), int64(5), object(5)\n",
      "memory usage: 2.0+ MB\n"
     ]
    }
   ],
   "source": [
    "data.info()"
   ]
  },
  {
   "cell_type": "code",
   "execution_count": 5,
   "id": "6d8b44ba",
   "metadata": {},
   "outputs": [
    {
     "data": {
      "text/plain": [
       "children               0\n",
       "days_employed       2174\n",
       "dob_years              0\n",
       "education              0\n",
       "education_id           0\n",
       "family_status          0\n",
       "family_status_id       0\n",
       "gender                 0\n",
       "income_type            0\n",
       "debt                   0\n",
       "total_income        2174\n",
       "purpose                0\n",
       "dtype: int64"
      ]
     },
     "execution_count": 5,
     "metadata": {},
     "output_type": "execute_result"
    }
   ],
   "source": [
    "data.isna().sum()"
   ]
  },
  {
   "cell_type": "code",
   "execution_count": 6,
   "id": "90e71a88",
   "metadata": {},
   "outputs": [],
   "source": [
    "for t in data['income_type'].unique():\n",
    "    data.loc[(data['income_type'] == t) & (data['total_income'].isna()), 'total_income'] = \\\n",
    "    data.loc[(data['income_type'] == t), 'total_income'].median()"
   ]
  },
  {
   "cell_type": "code",
   "execution_count": 7,
   "id": "b6912ebf",
   "metadata": {},
   "outputs": [],
   "source": [
    "data['days_employed'] = data['days_employed'].abs()"
   ]
  },
  {
   "cell_type": "code",
   "execution_count": 12,
   "id": "bec367ac",
   "metadata": {},
   "outputs": [
    {
     "data": {
      "text/plain": [
       "income_type\n",
       "безработный        366413.7\n",
       "в декрете            3296.8\n",
       "госслужащий          2689.4\n",
       "компаньон            1547.4\n",
       "пенсионер          365213.3\n",
       "предприниматель       520.8\n",
       "сотрудник            1574.2\n",
       "студент               578.8\n",
       "Name: days_employed, dtype: float64"
      ]
     },
     "execution_count": 12,
     "metadata": {},
     "output_type": "execute_result"
    }
   ],
   "source": [
    "(data.groupby('income_type')['days_employed'].agg('median')).round(1)"
   ]
  },
  {
   "cell_type": "code",
   "execution_count": 13,
   "id": "cf7fa5f1",
   "metadata": {},
   "outputs": [
    {
     "data": {
      "text/plain": [
       "array([ 1,  0,  3,  2, -1,  4, 20,  5])"
      ]
     },
     "execution_count": 13,
     "metadata": {},
     "output_type": "execute_result"
    }
   ],
   "source": [
    "data['children'].unique()"
   ]
  },
  {
   "cell_type": "code",
   "execution_count": 15,
   "id": "bad6a68e",
   "metadata": {},
   "outputs": [
    {
     "data": {
      "text/plain": [
       "array([1, 0, 3, 2, 4, 5])"
      ]
     },
     "execution_count": 15,
     "metadata": {},
     "output_type": "execute_result"
    }
   ],
   "source": [
    "data = data[(data['children'] != -1) & (data['children'] != 20)]\n",
    "data['children'].unique()"
   ]
  },
  {
   "cell_type": "code",
   "execution_count": 16,
   "id": "46899091",
   "metadata": {},
   "outputs": [],
   "source": [
    "for t in data['income_type'].unique():\n",
    "    data.loc[(data['income_type'] == t) & (data['days_employed'].isna()), 'days_employed'] = \\\n",
    "    data.loc[(data['income_type'] == t), 'days_employed'].median()"
   ]
  },
  {
   "cell_type": "code",
   "execution_count": 17,
   "id": "8620fe2f",
   "metadata": {},
   "outputs": [
    {
     "data": {
      "text/plain": [
       "children            0\n",
       "days_employed       0\n",
       "dob_years           0\n",
       "education           0\n",
       "education_id        0\n",
       "family_status       0\n",
       "family_status_id    0\n",
       "gender              0\n",
       "income_type         0\n",
       "debt                0\n",
       "total_income        0\n",
       "purpose             0\n",
       "dtype: int64"
      ]
     },
     "execution_count": 17,
     "metadata": {},
     "output_type": "execute_result"
    }
   ],
   "source": [
    "data.isna().sum()"
   ]
  },
  {
   "cell_type": "code",
   "execution_count": 18,
   "id": "fec1a948",
   "metadata": {},
   "outputs": [],
   "source": [
    "data['total_income'] = data['total_income'].astype(int)"
   ]
  },
  {
   "cell_type": "code",
   "execution_count": 19,
   "id": "2651cdad",
   "metadata": {},
   "outputs": [],
   "source": [
    "data['education'] = data['education'].str.lower()"
   ]
  },
  {
   "cell_type": "code",
   "execution_count": 20,
   "id": "c536252f",
   "metadata": {},
   "outputs": [
    {
     "data": {
      "text/plain": [
       "71"
      ]
     },
     "execution_count": 20,
     "metadata": {},
     "output_type": "execute_result"
    }
   ],
   "source": [
    "data.duplicated().sum()"
   ]
  },
  {
   "cell_type": "code",
   "execution_count": 21,
   "id": "bfbb9a47",
   "metadata": {},
   "outputs": [],
   "source": [
    "data = data.drop_duplicates()"
   ]
  },
  {
   "cell_type": "code",
   "execution_count": 22,
   "id": "8f3464e0",
   "metadata": {},
   "outputs": [],
   "source": [
    "def categorize_income(income):\n",
    "    try:\n",
    "        if 0 <= income <= 30000:\n",
    "            return 'E'\n",
    "        elif 30001 <= income <= 50000:\n",
    "            return 'D'\n",
    "        elif 50001 <= income <= 200000:\n",
    "            return 'C'\n",
    "        elif 200001 <= income <= 1000000:\n",
    "            return 'B'\n",
    "        elif income >= 1000001:\n",
    "            return 'A'\n",
    "    except:\n",
    "        pass"
   ]
  },
  {
   "cell_type": "code",
   "execution_count": 23,
   "id": "88d37f79",
   "metadata": {},
   "outputs": [],
   "source": [
    "data['total_income_category'] = data['total_income'].apply(categorize_income)"
   ]
  },
  {
   "cell_type": "code",
   "execution_count": 24,
   "id": "772e38aa",
   "metadata": {},
   "outputs": [
    {
     "data": {
      "text/plain": [
       "array(['покупка жилья', 'приобретение автомобиля',\n",
       "       'дополнительное образование', 'сыграть свадьбу',\n",
       "       'операции с жильем', 'образование', 'на проведение свадьбы',\n",
       "       'покупка жилья для семьи', 'покупка недвижимости',\n",
       "       'покупка коммерческой недвижимости', 'покупка жилой недвижимости',\n",
       "       'строительство собственной недвижимости', 'недвижимость',\n",
       "       'строительство недвижимости', 'на покупку подержанного автомобиля',\n",
       "       'на покупку своего автомобиля',\n",
       "       'операции с коммерческой недвижимостью',\n",
       "       'строительство жилой недвижимости', 'жилье',\n",
       "       'операции со своей недвижимостью', 'автомобили',\n",
       "       'заняться образованием', 'сделка с подержанным автомобилем',\n",
       "       'получение образования', 'автомобиль', 'свадьба',\n",
       "       'получение дополнительного образования', 'покупка своего жилья',\n",
       "       'операции с недвижимостью', 'получение высшего образования',\n",
       "       'свой автомобиль', 'сделка с автомобилем',\n",
       "       'профильное образование', 'высшее образование',\n",
       "       'покупка жилья для сдачи', 'на покупку автомобиля', 'ремонт жилью',\n",
       "       'заняться высшим образованием'], dtype=object)"
      ]
     },
     "execution_count": 24,
     "metadata": {},
     "output_type": "execute_result"
    }
   ],
   "source": [
    "data['purpose'].unique()"
   ]
  },
  {
   "cell_type": "code",
   "execution_count": 25,
   "id": "42aeca9b",
   "metadata": {},
   "outputs": [],
   "source": [
    "def categorize_purpose(row):\n",
    "    try:\n",
    "        if 'автом' in row:\n",
    "            return 'операции с автомобилем'\n",
    "        elif 'жил' in row or 'недвиж' in row:\n",
    "            return 'операции с недвижимостью'\n",
    "        elif 'свад' in row:\n",
    "            return 'проведение свадьбы'\n",
    "        elif 'образов' in row:\n",
    "            return 'получение образования'\n",
    "    except:\n",
    "        return 'нет категории'"
   ]
  },
  {
   "cell_type": "code",
   "execution_count": 26,
   "id": "c85dde18",
   "metadata": {},
   "outputs": [],
   "source": [
    "data['purpose_category'] = data['purpose'].apply(categorize_purpose)"
   ]
  },
  {
   "cell_type": "code",
   "execution_count": 27,
   "id": "3f99928e",
   "metadata": {},
   "outputs": [
    {
     "data": {
      "text/html": [
       "<style  type=\"text/css\" >\n",
       "</style><table id=\"T_eda42_\" ><thead>    <tr>        <th class=\"blank level0\" ></th>        <th class=\"col_heading level0 col0\" >Кол-во заемщиков</th>        <th class=\"col_heading level0 col1\" >% невозврата</th>    </tr>    <tr>        <th class=\"index_name level0\" >children</th>        <th class=\"blank\" ></th>        <th class=\"blank\" ></th>    </tr></thead><tbody>\n",
       "                <tr>\n",
       "                        <th id=\"T_eda42_level0_row0\" class=\"row_heading level0 row0\" >5</th>\n",
       "                        <td id=\"T_eda42_row0_col0\" class=\"data row0 col0\" >9</td>\n",
       "                        <td id=\"T_eda42_row0_col1\" class=\"data row0 col1\" >0.00%</td>\n",
       "            </tr>\n",
       "            <tr>\n",
       "                        <th id=\"T_eda42_level0_row1\" class=\"row_heading level0 row1\" >0</th>\n",
       "                        <td id=\"T_eda42_row1_col0\" class=\"data row1 col0\" >14091</td>\n",
       "                        <td id=\"T_eda42_row1_col1\" class=\"data row1 col1\" >7.54%</td>\n",
       "            </tr>\n",
       "            <tr>\n",
       "                        <th id=\"T_eda42_level0_row2\" class=\"row_heading level0 row2\" >3</th>\n",
       "                        <td id=\"T_eda42_row2_col0\" class=\"data row2 col0\" >330</td>\n",
       "                        <td id=\"T_eda42_row2_col1\" class=\"data row2 col1\" >8.18%</td>\n",
       "            </tr>\n",
       "            <tr>\n",
       "                        <th id=\"T_eda42_level0_row3\" class=\"row_heading level0 row3\" >1</th>\n",
       "                        <td id=\"T_eda42_row3_col0\" class=\"data row3 col0\" >4808</td>\n",
       "                        <td id=\"T_eda42_row3_col1\" class=\"data row3 col1\" >9.23%</td>\n",
       "            </tr>\n",
       "            <tr>\n",
       "                        <th id=\"T_eda42_level0_row4\" class=\"row_heading level0 row4\" >2</th>\n",
       "                        <td id=\"T_eda42_row4_col0\" class=\"data row4 col0\" >2052</td>\n",
       "                        <td id=\"T_eda42_row4_col1\" class=\"data row4 col1\" >9.45%</td>\n",
       "            </tr>\n",
       "            <tr>\n",
       "                        <th id=\"T_eda42_level0_row5\" class=\"row_heading level0 row5\" >4</th>\n",
       "                        <td id=\"T_eda42_row5_col0\" class=\"data row5 col0\" >41</td>\n",
       "                        <td id=\"T_eda42_row5_col1\" class=\"data row5 col1\" >9.76%</td>\n",
       "            </tr>\n",
       "    </tbody></table>"
      ],
      "text/plain": [
       "<pandas.io.formats.style.Styler at 0x7fdba01ce880>"
      ]
     },
     "execution_count": 27,
     "metadata": {},
     "output_type": "execute_result"
    }
   ],
   "source": [
    "children_amount = data.groupby('children').agg({'debt': ['count', 'mean']})\n",
    "children_amount.columns = ['Кол-во заемщиков', '% невозврата']\n",
    "sort_children_amount = children_amount.sort_values(by='% невозврата')\n",
    "sort_children_amount.style.format({'% невозврата': '{:.2%}'})\n"
   ]
  },
  {
   "cell_type": "markdown",
   "id": "62c5884d",
   "metadata": {},
   "source": [
    "**Вывод:** из предоставленных данных видно, что с количеством детей растет % невозврата. Отклонение среди заемщиков с тремя и пятью детьми скорее всего связано с недостаточным количеством данных."
   ]
  },
  {
   "cell_type": "markdown",
   "id": "010528da",
   "metadata": {},
   "source": [
    "**Вывод:** из предоставленных данных видно, что с *количеством детей* растет *% невозврата*. Отклонение среди заемщиков с тремя и пятью детьми скорее всего связано с недостаточным количеством данных."
   ]
  },
  {
   "cell_type": "code",
   "execution_count": 29,
   "id": "702aa083",
   "metadata": {},
   "outputs": [
    {
     "data": {
      "text/html": [
       "<style  type=\"text/css\" >\n",
       "</style><table id=\"T_f42ec_\" ><thead>    <tr>        <th class=\"blank level0\" ></th>        <th class=\"col_heading level0 col0\" >Кол-во заемщиков</th>        <th class=\"col_heading level0 col1\" >% невозврата</th>    </tr>    <tr>        <th class=\"index_name level0\" >family_status</th>        <th class=\"blank\" ></th>        <th class=\"blank\" ></th>    </tr></thead><tbody>\n",
       "                <tr>\n",
       "                        <th id=\"T_f42ec_level0_row0\" class=\"row_heading level0 row0\" >вдовец / вдова</th>\n",
       "                        <td id=\"T_f42ec_row0_col0\" class=\"data row0 col0\" >951</td>\n",
       "                        <td id=\"T_f42ec_row0_col1\" class=\"data row0 col1\" >6.62%</td>\n",
       "            </tr>\n",
       "            <tr>\n",
       "                        <th id=\"T_f42ec_level0_row1\" class=\"row_heading level0 row1\" >в разводе</th>\n",
       "                        <td id=\"T_f42ec_row1_col0\" class=\"data row1 col0\" >1189</td>\n",
       "                        <td id=\"T_f42ec_row1_col1\" class=\"data row1 col1\" >7.06%</td>\n",
       "            </tr>\n",
       "            <tr>\n",
       "                        <th id=\"T_f42ec_level0_row2\" class=\"row_heading level0 row2\" >женат / замужем</th>\n",
       "                        <td id=\"T_f42ec_row2_col0\" class=\"data row2 col0\" >12261</td>\n",
       "                        <td id=\"T_f42ec_row2_col1\" class=\"data row2 col1\" >7.56%</td>\n",
       "            </tr>\n",
       "            <tr>\n",
       "                        <th id=\"T_f42ec_level0_row3\" class=\"row_heading level0 row3\" >гражданский брак</th>\n",
       "                        <td id=\"T_f42ec_row3_col0\" class=\"data row3 col0\" >4134</td>\n",
       "                        <td id=\"T_f42ec_row3_col1\" class=\"data row3 col1\" >9.31%</td>\n",
       "            </tr>\n",
       "            <tr>\n",
       "                        <th id=\"T_f42ec_level0_row4\" class=\"row_heading level0 row4\" >Не женат / не замужем</th>\n",
       "                        <td id=\"T_f42ec_row4_col0\" class=\"data row4 col0\" >2796</td>\n",
       "                        <td id=\"T_f42ec_row4_col1\" class=\"data row4 col1\" >9.76%</td>\n",
       "            </tr>\n",
       "    </tbody></table>"
      ],
      "text/plain": [
       "<pandas.io.formats.style.Styler at 0x7fdba01c3ee0>"
      ]
     },
     "execution_count": 29,
     "metadata": {},
     "output_type": "execute_result"
    }
   ],
   "source": [
    "depend_family_status = data.groupby('family_status').agg({'debt': ['count', 'mean']})\n",
    "depend_family_status.columns = ['Кол-во заемщиков', '% невозврата']\n",
    "sort_depend_family_status = depend_family_status.sort_values(by='% невозврата')\n",
    "sort_depend_family_status.style.format({'% невозврата': '{:.2%}'})\n"
   ]
  },
  {
   "cell_type": "markdown",
   "id": "c5b7712a",
   "metadata": {},
   "source": [
    "**Вывод:** хорошо видна зависимогсть между ссемейным положением и возвратом кредита в срок. Люди которые не были в официальных отношениях возвращают кредиты в срок реже."
   ]
  },
  {
   "cell_type": "code",
   "execution_count": 30,
   "id": "8c94f732",
   "metadata": {},
   "outputs": [
    {
     "data": {
      "text/html": [
       "<style  type=\"text/css\" >\n",
       "</style><table id=\"T_f8e0f_\" ><thead>    <tr>        <th class=\"blank level0\" ></th>        <th class=\"col_heading level0 col0\" >Кол-во заемщиков</th>        <th class=\"col_heading level0 col1\" >% невозврата</th>    </tr>    <tr>        <th class=\"index_name level0\" >total_income_category</th>        <th class=\"blank\" ></th>        <th class=\"blank\" ></th>    </tr></thead><tbody>\n",
       "                <tr>\n",
       "                        <th id=\"T_f8e0f_level0_row0\" class=\"row_heading level0 row0\" >D</th>\n",
       "                        <td id=\"T_f8e0f_row0_col0\" class=\"data row0 col0\" >349</td>\n",
       "                        <td id=\"T_f8e0f_row0_col1\" class=\"data row0 col1\" >6.02%</td>\n",
       "            </tr>\n",
       "            <tr>\n",
       "                        <th id=\"T_f8e0f_level0_row1\" class=\"row_heading level0 row1\" >B</th>\n",
       "                        <td id=\"T_f8e0f_row1_col0\" class=\"data row1 col0\" >5014</td>\n",
       "                        <td id=\"T_f8e0f_row1_col1\" class=\"data row1 col1\" >7.06%</td>\n",
       "            </tr>\n",
       "            <tr>\n",
       "                        <th id=\"T_f8e0f_level0_row2\" class=\"row_heading level0 row2\" >A</th>\n",
       "                        <td id=\"T_f8e0f_row2_col0\" class=\"data row2 col0\" >25</td>\n",
       "                        <td id=\"T_f8e0f_row2_col1\" class=\"data row2 col1\" >8.00%</td>\n",
       "            </tr>\n",
       "            <tr>\n",
       "                        <th id=\"T_f8e0f_level0_row3\" class=\"row_heading level0 row3\" >C</th>\n",
       "                        <td id=\"T_f8e0f_row3_col0\" class=\"data row3 col0\" >15921</td>\n",
       "                        <td id=\"T_f8e0f_row3_col1\" class=\"data row3 col1\" >8.50%</td>\n",
       "            </tr>\n",
       "            <tr>\n",
       "                        <th id=\"T_f8e0f_level0_row4\" class=\"row_heading level0 row4\" >E</th>\n",
       "                        <td id=\"T_f8e0f_row4_col0\" class=\"data row4 col0\" >22</td>\n",
       "                        <td id=\"T_f8e0f_row4_col1\" class=\"data row4 col1\" >9.09%</td>\n",
       "            </tr>\n",
       "    </tbody></table>"
      ],
      "text/plain": [
       "<pandas.io.formats.style.Styler at 0x7fdba0082640>"
      ]
     },
     "execution_count": 30,
     "metadata": {},
     "output_type": "execute_result"
    }
   ],
   "source": [
    "depend_income_category = data.groupby('total_income_category').agg({'debt': ['count', 'mean']})\n",
    "depend_income_category.columns = ['Кол-во заемщиков', '% невозврата']\n",
    "sort_depend_income_category = depend_income_category.sort_values(by='% невозврата')\n",
    "sort_depend_income_category.style.format({'% невозврата': '{:.2%}'})"
   ]
  },
  {
   "cell_type": "markdown",
   "id": "4743d9de",
   "metadata": {},
   "source": [
    "**Вывод:** Неудивительно, что наибольший % невозврата кредита у категории с самым низким уровнем дохода, однако обртаное утверждение неверно, категория с самым высоким доходом не имеет самый низкий % невозврата кредита. Однако смущает небольшое количество заемщиков в этих категориях, можем ли мы делать выводы на основании выборки из пары десятков человек. Рассматривая категории с большим количсевтвом заемщиков, зависимость между высоким уровнем дохода и низким % невозврата соблюдается только в категориях 'B' и 'C'."
   ]
  },
  {
   "cell_type": "code",
   "execution_count": 31,
   "id": "3047ca18",
   "metadata": {},
   "outputs": [
    {
     "data": {
      "text/html": [
       "<style  type=\"text/css\" >\n",
       "</style><table id=\"T_e502d_\" ><thead>    <tr>        <th class=\"blank level0\" ></th>        <th class=\"col_heading level0 col0\" >Кол-во заемщиков</th>        <th class=\"col_heading level0 col1\" >% невозврата</th>    </tr>    <tr>        <th class=\"index_name level0\" >purpose_category</th>        <th class=\"blank\" ></th>        <th class=\"blank\" ></th>    </tr></thead><tbody>\n",
       "                <tr>\n",
       "                        <th id=\"T_e502d_level0_row0\" class=\"row_heading level0 row0\" >операции с недвижимостью</th>\n",
       "                        <td id=\"T_e502d_row0_col0\" class=\"data row0 col0\" >10751</td>\n",
       "                        <td id=\"T_e502d_row0_col1\" class=\"data row0 col1\" >7.26%</td>\n",
       "            </tr>\n",
       "            <tr>\n",
       "                        <th id=\"T_e502d_level0_row1\" class=\"row_heading level0 row1\" >проведение свадьбы</th>\n",
       "                        <td id=\"T_e502d_row1_col0\" class=\"data row1 col0\" >2313</td>\n",
       "                        <td id=\"T_e502d_row1_col1\" class=\"data row1 col1\" >7.91%</td>\n",
       "            </tr>\n",
       "            <tr>\n",
       "                        <th id=\"T_e502d_level0_row2\" class=\"row_heading level0 row2\" >получение образования</th>\n",
       "                        <td id=\"T_e502d_row2_col0\" class=\"data row2 col0\" >3988</td>\n",
       "                        <td id=\"T_e502d_row2_col1\" class=\"data row2 col1\" >9.25%</td>\n",
       "            </tr>\n",
       "            <tr>\n",
       "                        <th id=\"T_e502d_level0_row3\" class=\"row_heading level0 row3\" >операции с автомобилем</th>\n",
       "                        <td id=\"T_e502d_row3_col0\" class=\"data row3 col0\" >4279</td>\n",
       "                        <td id=\"T_e502d_row3_col1\" class=\"data row3 col1\" >9.35%</td>\n",
       "            </tr>\n",
       "    </tbody></table>"
      ],
      "text/plain": [
       "<pandas.io.formats.style.Styler at 0x7fdba01ce340>"
      ]
     },
     "execution_count": 31,
     "metadata": {},
     "output_type": "execute_result"
    }
   ],
   "source": [
    "depend_purpose = data.groupby('purpose_category').agg({'debt': ['count', 'mean']})\n",
    "depend_purpose.columns = ['Кол-во заемщиков', '% невозврата']\n",
    "sort_depend_purpose = depend_purpose.sort_values(by='% невозврата')\n",
    "sort_depend_purpose.style.format({'% невозврата': '{:.2%}'})"
   ]
  },
  {
   "cell_type": "markdown",
   "id": "91303c03",
   "metadata": {},
   "source": [
    "**Вывод:** наименьший % невозврата имеют операции с недвижимостью, наибольший — операции с автомобилем, ненамного отстает категория целей связанная с образованием, а вот проведение свадем напротив стремится к наименьшему % невозврата. Все таки покупка недвижимости для многих взвешанный шаг."
   ]
  },
  {
   "cell_type": "code",
   "execution_count": null,
   "id": "e1999f3a",
   "metadata": {},
   "outputs": [],
   "source": []
  }
 ],
 "metadata": {
  "kernelspec": {
   "display_name": "Python 3 (ipykernel)",
   "language": "python",
   "name": "python3"
  },
  "language_info": {
   "codemirror_mode": {
    "name": "ipython",
    "version": 3
   },
   "file_extension": ".py",
   "mimetype": "text/x-python",
   "name": "python",
   "nbconvert_exporter": "python",
   "pygments_lexer": "ipython3",
   "version": "3.9.12"
  }
 },
 "nbformat": 4,
 "nbformat_minor": 5
}
